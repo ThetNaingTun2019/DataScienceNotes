{
 "cells": [
  {
   "cell_type": "markdown",
   "metadata": {},
   "source": [
    "# libraries များ import ပြုလုပ်ရန်"
   ]
  },
  {
   "cell_type": "code",
   "execution_count": 1,
   "metadata": {},
   "outputs": [],
   "source": [
    "from sklearn.cluster import KMeans\n",
    "import numpy as np\n",
    "import matplotlib.pyplot as plt"
   ]
  },
  {
   "cell_type": "markdown",
   "metadata": {},
   "source": [
    "# Dataset sample တည်ဆောက်ရန်"
   ]
  },
  {
   "cell_type": "code",
   "execution_count": 2,
   "metadata": {},
   "outputs": [],
   "source": [
    "X = np.array([[2,10],[2,5],[8,4],[5,8],[7,5],[6,4],[1,2],[4,9]])"
   ]
  },
  {
   "cell_type": "markdown",
   "metadata": {},
   "source": [
    "# Scatter diagram ဖြင့်ကြည့်မြင့်ရန်"
   ]
  },
  {
   "cell_type": "code",
   "execution_count": 3,
   "metadata": {},
   "outputs": [
    {
     "data": {
      "text/plain": [
       "<matplotlib.collections.PathCollection at 0x231bc854708>"
      ]
     },
     "execution_count": 3,
     "metadata": {},
     "output_type": "execute_result"
    },
    {
     "data": {
      "image/png": "[encoded data removed]",
      "text/plain": [
       "<Figure size 432x288 with 1 Axes>"
      ]
     },
     "metadata": {
      "needs_background": "light"
     },
     "output_type": "display_data"
    }
   ],
   "source": [
    "plt.scatter(X[:,[0]],X[:,[1]])"
   ]
  },
  {
   "cell_type": "markdown",
   "metadata": {},
   "source": [
    "# Cluster အရေအတွက် သတ်မှတ်၍ training ပြုလုပ်ရန်"
   ]
  },
  {
   "cell_type": "code",
   "execution_count": 4,
   "metadata": {},
   "outputs": [
    {
     "data": {
      "text/plain": [
       "KMeans(algorithm='auto', copy_x=True, init='k-means++', max_iter=300,\n",
       "       n_clusters=3, n_init=10, n_jobs=None, precompute_distances='auto',\n",
       "       random_state=0, tol=0.0001, verbose=0)"
      ]
     },
     "execution_count": 4,
     "metadata": {},
     "output_type": "execute_result"
    }
   ],
   "source": [
    "n_cluster = 3\n",
    "kmeans = KMeans(n_clusters=n_cluster, random_state=0)\n",
    "kmeans.fit(X)"
   ]
  },
  {
   "cell_type": "markdown",
   "metadata": {},
   "source": [
    "# Cluster ၏ centroid point များအားကြည့်မြင်ရန်"
   ]
  },
  {
   "cell_type": "code",
   "execution_count": 5,
   "metadata": {},
   "outputs": [
    {
     "data": {
      "text/plain": [
       "array([[7.        , 4.33333333],\n",
       "       [1.5       , 3.5       ],\n",
       "       [3.66666667, 9.        ]])"
      ]
     },
     "execution_count": 5,
     "metadata": {},
     "output_type": "execute_result"
    }
   ],
   "source": [
    "kmeans.cluster_centers_"
   ]
  },
  {
   "cell_type": "markdown",
   "metadata": {},
   "source": [
    "# ရလဒ်အား scatter ကြည့်မြင်ရန်"
   ]
  },
  {
   "cell_type": "code",
   "execution_count": 6,
   "metadata": {},
   "outputs": [
    {
     "data": {
      "text/plain": [
       "<matplotlib.collections.PathCollection at 0x231bc8ad308>"
      ]
     },
     "execution_count": 6,
     "metadata": {},
     "output_type": "execute_result"
    },
    {
     "data": {
      "image/png": "[encoded data removed]",
      "text/plain": [
       "<Figure size 432x288 with 1 Axes>"
      ]
     },
     "metadata": {
      "needs_background": "light"
     },
     "output_type": "display_data"
    }
   ],
   "source": [
    "y_kmeans = kmeans.predict(X)\n",
    "plt.scatter(X[:, 0], X[:, 1], c=y_kmeans)"
   ]
  },
  {
   "cell_type": "markdown",
   "metadata": {},
   "source": [
    "# Predict ပြုလုပ်ရန်"
   ]
  },
  {
   "cell_type": "code",
   "execution_count": 7,
   "metadata": {},
   "outputs": [
    {
     "data": {
      "text/plain": [
       "array([1])"
      ]
     },
     "execution_count": 7,
     "metadata": {},
     "output_type": "execute_result"
    }
   ],
   "source": [
    "kmeans.predict([[4,5]])"
   ]
  },
  {
   "cell_type": "code",
   "execution_count": null,
   "metadata": {},
   "outputs": [],
   "source": [
    "from math import sqrt, floor\n",
    "import numpy as np\n",
    "\n",
    "\n",
    "def random(ds, k, random_state=42):\n",
    "    \"\"\"\n",
    "    Create random cluster centroids.\n",
    "    \n",
    "    Parameters\n",
    "    ----------\n",
    "    ds : numpy array\n",
    "        The dataset to be used for centroid initialization.\n",
    "    k : int\n",
    "        The desired number of clusters for which centroids are required.\n",
    "    Returns\n",
    "    -------\n",
    "    centroids : numpy array\n",
    "        Collection of k centroids as a numpy array.\n",
    "    \"\"\"\n",
    "\n",
    "    np.random.seed(random_state)\n",
    "    centroids = []\n",
    "    m = np.shape(ds)[0]\n",
    "\n",
    "    for _ in range(k):\n",
    "        r = np.random.randint(0, m-1)\n",
    "        centroids.append(ds[r])\n",
    "\n",
    "    return np.array(centroids)\n",
    "\n",
    "\n",
    "def plus_plus(ds, k, random_state=42):\n",
    "    \"\"\"\n",
    "    Create cluster centroids using the k-means++ algorithm.\n",
    "    Parameters\n",
    "    ----------\n",
    "    ds : numpy array\n",
    "        The dataset to be used for centroid initialization.\n",
    "    k : int\n",
    "        The desired number of clusters for which centroids are required.\n",
    "    Returns\n",
    "    -------\n",
    "    centroids : numpy array\n",
    "        Collection of k centroids as a numpy array.\n",
    "    Inspiration from here: https://stackoverflow.com/questions/5466323/how-could-one-implement-the-k-means-algorithm\n",
    "    \"\"\"\n",
    "\n",
    "    np.random.seed(random_state)\n",
    "    centroids = [ds[0]]\n",
    "\n",
    "    for _ in range(1, k):\n",
    "        dist_sq = np.array([min([np.inner(c-x,c-x) for c in centroids]) for x in ds])\n",
    "        probs = dist_sq/dist_sq.sum()\n",
    "        cumulative_probs = probs.cumsum()\n",
    "        r = np.random.rand()\n",
    "        \n",
    "        for j, p in enumerate(cumulative_probs):\n",
    "            if r < p:\n",
    "                i = j\n",
    "                break\n",
    "        \n",
    "        centroids.append(ds[i])\n",
    "\n",
    "    return np.array(centroids)\n",
    "\n",
    "\n",
    "def naive_sharding(ds, k):\n",
    "    \"\"\"\n",
    "    Create cluster centroids using deterministic naive sharding algorithm.\n",
    "    \n",
    "    Parameters\n",
    "    ----------\n",
    "    ds : numpy array\n",
    "        The dataset to be used for centroid initialization.\n",
    "    k : int\n",
    "        The desired number of clusters for which centroids are required.\n",
    "    Returns\n",
    "    -------\n",
    "    centroids : numpy array\n",
    "        Collection of k centroids as a numpy array.\n",
    "    \"\"\"\n",
    "\n",
    "    def _get_mean(sums, step):\n",
    "        \"\"\"Vectorizable ufunc for getting means of summed shard columns.\"\"\"\n",
    "        return sums/step\n",
    "\n",
    "    n = np.shape(ds)[1]\n",
    "    m = np.shape(ds)[0]\n",
    "    centroids = np.zeros((k, n))\n",
    "\n",
    "    composite = np.mat(np.sum(ds, axis=1))\n",
    "    ds = np.append(composite.T, ds, axis=1)\n",
    "    ds.sort(axis=0)\n",
    "\n",
    "    step = floor(m/k)\n",
    "    vfunc = np.vectorize(_get_mean)\n",
    "\n",
    "    for j in range(k):\n",
    "        if j == k-1:\n",
    "            centroids[j:] = vfunc(np.sum(ds[j*step:,1:], axis=0), step)\n",
    "        else:\n",
    "            centroids[j:] = vfunc(np.sum(ds[j*step:(j+1)*step,1:], axis=0), step)\n",
    "\n",
    "    return centroids"
   ]
  }
 ],
 "metadata": {
  "kernelspec": {
   "display_name": "Python 3",
   "language": "python",
   "name": "python3"
  },
  "language_info": {
   "codemirror_mode": {
    "name": "ipython",
    "version": 3
   },
   "file_extension": ".py",
   "mimetype": "text/x-python",
   "name": "python",
   "nbconvert_exporter": "python",
   "pygments_lexer": "ipython3",
   "version": "3.7.6"
  }
 },
 "nbformat": 4,
 "nbformat_minor": 4
}
