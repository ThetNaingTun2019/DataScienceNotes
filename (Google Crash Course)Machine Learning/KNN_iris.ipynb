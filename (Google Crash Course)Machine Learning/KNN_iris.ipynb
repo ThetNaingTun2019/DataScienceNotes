{
 "cells": [
  {
   "cell_type": "markdown",
   "metadata": {},
   "source": [
    "# လိုအပ်သော libraries များကို import ပြုလုပ်ခြင်း"
   ]
  },
  {
   "cell_type": "code",
   "execution_count": 1,
   "metadata": {},
   "outputs": [],
   "source": [
    "from sklearn.datasets import load_iris \n",
    "from sklearn.model_selection import train_test_split \n",
    "from sklearn.neighbors import KNeighborsClassifier\n",
    "import matplotlib.pyplot as plt"
   ]
  },
  {
   "cell_type": "markdown",
   "metadata": {},
   "source": [
    "# Iris dataset ကို ရယူခြင်း"
   ]
  },
  {
   "cell_type": "code",
   "execution_count": 2,
   "metadata": {},
   "outputs": [
    {
     "name": "stdout",
     "output_type": "stream",
     "text": [
      "{'data': array([[5.1, 3.5, 1.4, 0.2],\n",
      "       [4.9, 3. , 1.4, 0.2],\n",
      "       [4.7, 3.2, 1.3, 0.2],\n",
      "       [4.6, 3.1, 1.5, 0.2],\n",
      "       [5. , 3.6, 1.4, 0.2],\n",
      "       [5.4, 3.9, 1.7, 0.4],\n",
      "       [4.6, 3.4, 1.4, 0.3],\n",
      "       [5. , 3.4, 1.5, 0.2],\n",
      "       [4.4, 2.9, 1.4, 0.2],\n",
      "       [4.9, 3.1, 1.5, 0.1],\n",
      "       [5.4, 3.7, 1.5, 0.2],\n",
      "       [4.8, 3.4, 1.6, 0.2],\n",
      "       [4.8, 3. , 1.4, 0.1],\n",
      "       [4.3, 3. , 1.1, 0.1],\n",
      "       [5.8, 4. , 1.2, 0.2],\n",
      "       [5.7, 4.4, 1.5, 0.4],\n",
      "       [5.4, 3.9, 1.3, 0.4],\n",
      "       [5.1, 3.5, 1.4, 0.3],\n",
      "       [5.7, 3.8, 1.7, 0.3],\n",
      "       [5.1, 3.8, 1.5, 0.3],\n",
      "       [5.4, 3.4, 1.7, 0.2],\n",
      "       [5.1, 3.7, 1.5, 0.4],\n",
      "       [4.6, 3.6, 1. , 0.2],\n",
      "       [5.1, 3.3, 1.7, 0.5],\n",
      "       [4.8, 3.4, 1.9, 0.2],\n",
      "       [5. , 3. , 1.6, 0.2],\n",
      "       [5. , 3.4, 1.6, 0.4],\n",
      "       [5.2, 3.5, 1.5, 0.2],\n",
      "       [5.2, 3.4, 1.4, 0.2],\n",
      "       [4.7, 3.2, 1.6, 0.2],\n",
      "       [4.8, 3.1, 1.6, 0.2],\n",
      "       [5.4, 3.4, 1.5, 0.4],\n",
      "       [5.2, 4.1, 1.5, 0.1],\n",
      "       [5.5, 4.2, 1.4, 0.2],\n",
      "       [4.9, 3.1, 1.5, 0.2],\n",
      "       [5. , 3.2, 1.2, 0.2],\n",
      "       [5.5, 3.5, 1.3, 0.2],\n",
      "       [4.9, 3.6, 1.4, 0.1],\n",
      "       [4.4, 3. , 1.3, 0.2],\n",
      "       [5.1, 3.4, 1.5, 0.2],\n",
      "       [5. , 3.5, 1.3, 0.3],\n",
      "       [4.5, 2.3, 1.3, 0.3],\n",
      "       [4.4, 3.2, 1.3, 0.2],\n",
      "       [5. , 3.5, 1.6, 0.6],\n",
      "       [5.1, 3.8, 1.9, 0.4],\n",
      "       [4.8, 3. , 1.4, 0.3],\n",
      "       [5.1, 3.8, 1.6, 0.2],\n",
      "       [4.6, 3.2, 1.4, 0.2],\n",
      "       [5.3, 3.7, 1.5, 0.2],\n",
      "       [5. , 3.3, 1.4, 0.2],\n",
      "       [7. , 3.2, 4.7, 1.4],\n",
      "       [6.4, 3.2, 4.5, 1.5],\n",
      "       [6.9, 3.1, 4.9, 1.5],\n",
      "       [5.5, 2.3, 4. , 1.3],\n",
      "       [6.5, 2.8, 4.6, 1.5],\n",
      "       [5.7, 2.8, 4.5, 1.3],\n",
      "       [6.3, 3.3, 4.7, 1.6],\n",
      "       [4.9, 2.4, 3.3, 1. ],\n",
      "       [6.6, 2.9, 4.6, 1.3],\n",
      "       [5.2, 2.7, 3.9, 1.4],\n",
      "       [5. , 2. , 3.5, 1. ],\n",
      "       [5.9, 3. , 4.2, 1.5],\n",
      "       [6. , 2.2, 4. , 1. ],\n",
      "       [6.1, 2.9, 4.7, 1.4],\n",
      "       [5.6, 2.9, 3.6, 1.3],\n",
      "       [6.7, 3.1, 4.4, 1.4],\n",
      "       [5.6, 3. , 4.5, 1.5],\n",
      "       [5.8, 2.7, 4.1, 1. ],\n",
      "       [6.2, 2.2, 4.5, 1.5],\n",
      "       [5.6, 2.5, 3.9, 1.1],\n",
      "       [5.9, 3.2, 4.8, 1.8],\n",
      "       [6.1, 2.8, 4. , 1.3],\n",
      "       [6.3, 2.5, 4.9, 1.5],\n",
      "       [6.1, 2.8, 4.7, 1.2],\n",
      "       [6.4, 2.9, 4.3, 1.3],\n",
      "       [6.6, 3. , 4.4, 1.4],\n",
      "       [6.8, 2.8, 4.8, 1.4],\n",
      "       [6.7, 3. , 5. , 1.7],\n",
      "       [6. , 2.9, 4.5, 1.5],\n",
      "       [5.7, 2.6, 3.5, 1. ],\n",
      "       [5.5, 2.4, 3.8, 1.1],\n",
      "       [5.5, 2.4, 3.7, 1. ],\n",
      "       [5.8, 2.7, 3.9, 1.2],\n",
      "       [6. , 2.7, 5.1, 1.6],\n",
      "       [5.4, 3. , 4.5, 1.5],\n",
      "       [6. , 3.4, 4.5, 1.6],\n",
      "       [6.7, 3.1, 4.7, 1.5],\n",
      "       [6.3, 2.3, 4.4, 1.3],\n",
      "       [5.6, 3. , 4.1, 1.3],\n",
      "       [5.5, 2.5, 4. , 1.3],\n",
      "       [5.5, 2.6, 4.4, 1.2],\n",
      "       [6.1, 3. , 4.6, 1.4],\n",
      "       [5.8, 2.6, 4. , 1.2],\n",
      "       [5. , 2.3, 3.3, 1. ],\n",
      "       [5.6, 2.7, 4.2, 1.3],\n",
      "       [5.7, 3. , 4.2, 1.2],\n",
      "       [5.7, 2.9, 4.2, 1.3],\n",
      "       [6.2, 2.9, 4.3, 1.3],\n",
      "       [5.1, 2.5, 3. , 1.1],\n",
      "       [5.7, 2.8, 4.1, 1.3],\n",
      "       [6.3, 3.3, 6. , 2.5],\n",
      "       [5.8, 2.7, 5.1, 1.9],\n",
      "       [7.1, 3. , 5.9, 2.1],\n",
      "       [6.3, 2.9, 5.6, 1.8],\n",
      "       [6.5, 3. , 5.8, 2.2],\n",
      "       [7.6, 3. , 6.6, 2.1],\n",
      "       [4.9, 2.5, 4.5, 1.7],\n",
      "       [7.3, 2.9, 6.3, 1.8],\n",
      "       [6.7, 2.5, 5.8, 1.8],\n",
      "       [7.2, 3.6, 6.1, 2.5],\n",
      "       [6.5, 3.2, 5.1, 2. ],\n",
      "       [6.4, 2.7, 5.3, 1.9],\n",
      "       [6.8, 3. , 5.5, 2.1],\n",
      "       [5.7, 2.5, 5. , 2. ],\n",
      "       [5.8, 2.8, 5.1, 2.4],\n",
      "       [6.4, 3.2, 5.3, 2.3],\n",
      "       [6.5, 3. , 5.5, 1.8],\n",
      "       [7.7, 3.8, 6.7, 2.2],\n",
      "       [7.7, 2.6, 6.9, 2.3],\n",
      "       [6. , 2.2, 5. , 1.5],\n",
      "       [6.9, 3.2, 5.7, 2.3],\n",
      "       [5.6, 2.8, 4.9, 2. ],\n",
      "       [7.7, 2.8, 6.7, 2. ],\n",
      "       [6.3, 2.7, 4.9, 1.8],\n",
      "       [6.7, 3.3, 5.7, 2.1],\n",
      "       [7.2, 3.2, 6. , 1.8],\n",
      "       [6.2, 2.8, 4.8, 1.8],\n",
      "       [6.1, 3. , 4.9, 1.8],\n",
      "       [6.4, 2.8, 5.6, 2.1],\n",
      "       [7.2, 3. , 5.8, 1.6],\n",
      "       [7.4, 2.8, 6.1, 1.9],\n",
      "       [7.9, 3.8, 6.4, 2. ],\n",
      "       [6.4, 2.8, 5.6, 2.2],\n",
      "       [6.3, 2.8, 5.1, 1.5],\n",
      "       [6.1, 2.6, 5.6, 1.4],\n",
      "       [7.7, 3. , 6.1, 2.3],\n",
      "       [6.3, 3.4, 5.6, 2.4],\n",
      "       [6.4, 3.1, 5.5, 1.8],\n",
      "       [6. , 3. , 4.8, 1.8],\n",
      "       [6.9, 3.1, 5.4, 2.1],\n",
      "       [6.7, 3.1, 5.6, 2.4],\n",
      "       [6.9, 3.1, 5.1, 2.3],\n",
      "       [5.8, 2.7, 5.1, 1.9],\n",
      "       [6.8, 3.2, 5.9, 2.3],\n",
      "       [6.7, 3.3, 5.7, 2.5],\n",
      "       [6.7, 3. , 5.2, 2.3],\n",
      "       [6.3, 2.5, 5. , 1.9],\n",
      "       [6.5, 3. , 5.2, 2. ],\n",
      "       [6.2, 3.4, 5.4, 2.3],\n",
      "       [5.9, 3. , 5.1, 1.8]]), 'target': array([0, 0, 0, 0, 0, 0, 0, 0, 0, 0, 0, 0, 0, 0, 0, 0, 0, 0, 0, 0, 0, 0,\n",
      "       0, 0, 0, 0, 0, 0, 0, 0, 0, 0, 0, 0, 0, 0, 0, 0, 0, 0, 0, 0, 0, 0,\n",
      "       0, 0, 0, 0, 0, 0, 1, 1, 1, 1, 1, 1, 1, 1, 1, 1, 1, 1, 1, 1, 1, 1,\n",
      "       1, 1, 1, 1, 1, 1, 1, 1, 1, 1, 1, 1, 1, 1, 1, 1, 1, 1, 1, 1, 1, 1,\n",
      "       1, 1, 1, 1, 1, 1, 1, 1, 1, 1, 1, 1, 2, 2, 2, 2, 2, 2, 2, 2, 2, 2,\n",
      "       2, 2, 2, 2, 2, 2, 2, 2, 2, 2, 2, 2, 2, 2, 2, 2, 2, 2, 2, 2, 2, 2,\n",
      "       2, 2, 2, 2, 2, 2, 2, 2, 2, 2, 2, 2, 2, 2, 2, 2, 2, 2]), 'target_names': array(['setosa', 'versicolor', 'virginica'], dtype='<U10'), 'DESCR': '.. _iris_dataset:\\n\\nIris plants dataset\\n--------------------\\n\\n**Data Set Characteristics:**\\n\\n    :Number of Instances: 150 (50 in each of three classes)\\n    :Number of Attributes: 4 numeric, predictive attributes and the class\\n    :Attribute Information:\\n        - sepal length in cm\\n        - sepal width in cm\\n        - petal length in cm\\n        - petal width in cm\\n        - class:\\n                - Iris-Setosa\\n                - Iris-Versicolour\\n                - Iris-Virginica\\n                \\n    :Summary Statistics:\\n\\n    ============== ==== ==== ======= ===== ====================\\n                    Min  Max   Mean    SD   Class Correlation\\n    ============== ==== ==== ======= ===== ====================\\n    sepal length:   4.3  7.9   5.84   0.83    0.7826\\n    sepal width:    2.0  4.4   3.05   0.43   -0.4194\\n    petal length:   1.0  6.9   3.76   1.76    0.9490  (high!)\\n    petal width:    0.1  2.5   1.20   0.76    0.9565  (high!)\\n    ============== ==== ==== ======= ===== ====================\\n\\n    :Missing Attribute Values: None\\n    :Class Distribution: 33.3% for each of 3 classes.\\n    :Creator: R.A. Fisher\\n    :Donor: Michael Marshall (MARSHALL%PLU@io.arc.nasa.gov)\\n    :Date: July, 1988\\n\\nThe famous Iris database, first used by Sir R.A. Fisher. The dataset is taken\\nfrom Fisher\\'s paper. Note that it\\'s the same as in R, but not as in the UCI\\nMachine Learning Repository, which has two wrong data points.\\n\\nThis is perhaps the best known database to be found in the\\npattern recognition literature.  Fisher\\'s paper is a classic in the field and\\nis referenced frequently to this day.  (See Duda & Hart, for example.)  The\\ndata set contains 3 classes of 50 instances each, where each class refers to a\\ntype of iris plant.  One class is linearly separable from the other 2; the\\nlatter are NOT linearly separable from each other.\\n\\n.. topic:: References\\n\\n   - Fisher, R.A. \"The use of multiple measurements in taxonomic problems\"\\n     Annual Eugenics, 7, Part II, 179-188 (1936); also in \"Contributions to\\n     Mathematical Statistics\" (John Wiley, NY, 1950).\\n   - Duda, R.O., & Hart, P.E. (1973) Pattern Classification and Scene Analysis.\\n     (Q327.D83) John Wiley & Sons.  ISBN 0-471-22361-1.  See page 218.\\n   - Dasarathy, B.V. (1980) \"Nosing Around the Neighborhood: A New System\\n     Structure and Classification Rule for Recognition in Partially Exposed\\n     Environments\".  IEEE Transactions on Pattern Analysis and Machine\\n     Intelligence, Vol. PAMI-2, No. 1, 67-71.\\n   - Gates, G.W. (1972) \"The Reduced Nearest Neighbor Rule\".  IEEE Transactions\\n     on Information Theory, May 1972, 431-433.\\n   - See also: 1988 MLC Proceedings, 54-64.  Cheeseman et al\"s AUTOCLASS II\\n     conceptual clustering system finds 3 classes in the data.\\n   - Many, many more ...', 'feature_names': ['sepal length (cm)', 'sepal width (cm)', 'petal length (cm)', 'petal width (cm)'], 'filename': 'C:\\\\Users\\\\Zaw\\\\Anaconda3\\\\lib\\\\site-packages\\\\sklearn\\\\datasets\\\\data\\\\iris.csv'}\n"
     ]
    }
   ],
   "source": [
    "Iris_data = load_iris()\n",
    "print(Iris_data.)"
   ]
  },
  {
   "cell_type": "markdown",
   "metadata": {},
   "source": [
    "# Iris dataset ၏ data များနှင့် feature များကိုကြည့်မြင်ခြင်း"
   ]
  },
  {
   "cell_type": "code",
   "execution_count": 6,
   "metadata": {},
   "outputs": [
    {
     "data": {
      "text/plain": [
       "array(['setosa', 'versicolor', 'virginica'], dtype='<U10')"
      ]
     },
     "execution_count": 6,
     "metadata": {},
     "output_type": "execute_result"
    }
   ],
   "source": [
    "Iris_data.target_names"
   ]
  },
  {
   "cell_type": "markdown",
   "metadata": {},
   "source": [
    "# Iris dataset ၏ data များနှင့် target များကို ရယူ၍ Model တည်ဆောက်ရန် data သတ်မှတ်ခြင်း"
   ]
  },
  {
   "cell_type": "code",
   "execution_count": 7,
   "metadata": {},
   "outputs": [],
   "source": [
    "X = Iris_data.data\n",
    "y = Iris_data.target"
   ]
  },
  {
   "cell_type": "markdown",
   "metadata": {},
   "source": [
    "# Data များကို training နှင့် testing အတွက် ပိုင်းခြားခြင်း"
   ]
  },
  {
   "cell_type": "code",
   "execution_count": 16,
   "metadata": {},
   "outputs": [
    {
     "name": "stdout",
     "output_type": "stream",
     "text": [
      "(112, 4)\n",
      "(38, 4)\n"
     ]
    }
   ],
   "source": [
    "X_train, X_test, y_train, y_test = train_test_split(X, y, random_state=2)\n",
    "print(X_train.shape)\n",
    "print(X_test.shape)"
   ]
  },
  {
   "cell_type": "markdown",
   "metadata": {},
   "source": [
    "# Data များကို scaling ပြုလုပ်ခြင်း"
   ]
  },
  {
   "cell_type": "code",
   "execution_count": 17,
   "metadata": {},
   "outputs": [],
   "source": [
    "from sklearn.preprocessing import StandardScaler\n",
    "scaler = StandardScaler()\n",
    "scaler.fit(X_train)\n",
    "X_train = scaler.transform(X_train)\n",
    "X_test = scaler.transform(X_test)"
   ]
  },
  {
   "cell_type": "code",
   "execution_count": 18,
   "metadata": {},
   "outputs": [
    {
     "data": {
      "text/plain": [
       "array([[-0.47639181, -1.69145955,  0.08910607,  0.08782308],\n",
       "       [ 1.2447657 ,  0.11276397,  0.72366489,  1.41703726],\n",
       "       [ 0.1383073 , -0.33829191,  0.3775419 ,  0.35366592],\n",
       "       [ 0.38418694, -0.33829191,  0.26216757,  0.08782308],\n",
       "       [ 1.12182588,  0.33829191,  1.18516222,  1.41703726],\n",
       "       [-1.09109092, -1.69145955, -0.31470409, -0.31094117],\n",
       "       [-1.33697057,  0.78934779, -1.29538591, -1.37431252],\n",
       "       [ 0.26124712, -1.01487573,  1.01210072,  0.2207445 ],\n",
       "       [-0.84521128,  0.78934779, -1.41076024, -1.37431252],\n",
       "       [ 0.99888606,  0.11276397,  0.31985473,  0.2207445 ],\n",
       "       [-0.9681511 ,  1.01487573, -1.41076024, -1.37431252],\n",
       "       [-0.84521128,  1.01487573, -1.35307308, -1.37431252],\n",
       "       [-0.47639181,  1.01487573, -1.46844741, -1.37431252],\n",
       "       [-1.21403075, -1.24040367,  0.3775419 ,  0.61950875],\n",
       "       [ 0.38418694,  0.78934779,  0.89672639,  1.41703726],\n",
       "       [ 2.47416393,  1.69145955,  1.47359805,  1.018273  ],\n",
       "       [-0.59933163,  0.78934779, -1.23769874, -1.37431252],\n",
       "       [ 0.99888606,  0.11276397,  1.01210072,  1.54995868],\n",
       "       [ 0.50712677,  0.78934779,  1.01210072,  1.54995868],\n",
       "       [ 2.10534446, -0.11276397,  1.58897238,  1.15119442],\n",
       "       [ 0.1383073 , -1.91698749,  0.66597773,  0.35366592],\n",
       "       [-1.95166968, -0.11276397, -1.58382174, -1.50723393],\n",
       "       [-1.33697057,  0.11276397, -1.29538591, -1.37431252],\n",
       "       [-0.10757234, -0.78934779,  0.72366489,  0.88535159],\n",
       "       [-0.23051217, -0.56381985,  0.14679323,  0.08782308],\n",
       "       [-0.84521128, -0.78934779,  0.0314189 ,  0.2207445 ],\n",
       "       [ 2.22828428, -0.11276397,  1.30053655,  1.41703726],\n",
       "       [ 0.50712677, -0.78934779,  0.60829056,  0.75243017],\n",
       "       [ 0.26124712, -0.56381985,  0.08910607,  0.08782308],\n",
       "       [-0.9681511 ,  1.46593161, -1.35307308, -1.10846968],\n",
       "       [-0.23051217, -0.56381985,  0.3775419 ,  0.08782308],\n",
       "       [-0.59933163,  1.91698749, -1.46844741, -1.10846968],\n",
       "       [-0.10757234, -0.56381985,  0.72366489,  1.54995868],\n",
       "       [-0.10757234, -1.01487573,  0.08910607, -0.04509834],\n",
       "       [-0.9681511 , -1.24040367, -0.48776559, -0.17801976],\n",
       "       [-0.23051217,  1.69145955, -1.23769874, -1.2413911 ],\n",
       "       [-0.47639181, -1.46593161, -0.08395543, -0.31094117],\n",
       "       [ 0.01536748, -0.11276397,  0.2044804 ,  0.35366592],\n",
       "       [ 0.99888606,  0.11276397,  0.49291623,  0.35366592],\n",
       "       [ 2.22828428, -0.56381985,  1.64665954,  1.018273  ],\n",
       "       [-1.21403075, -0.11276397, -1.41076024, -1.37431252],\n",
       "       [ 0.50712677,  0.56381985,  0.49291623,  0.48658733],\n",
       "       [-0.9681511 ,  1.69145955, -1.35307308, -1.2413911 ],\n",
       "       [-0.10757234, -0.78934779,  0.0314189 , -0.04509834],\n",
       "       [ 1.2447657 ,  0.33829191,  1.06978789,  1.41703726],\n",
       "       [-1.21403075,  0.11276397, -1.35307308, -1.50723393],\n",
       "       [-1.09109092, -2.36804338, -0.19932976, -0.31094117],\n",
       "       [-1.21403075,  0.11276397, -1.35307308, -1.37431252],\n",
       "       [-1.09109092,  1.01487573, -1.46844741, -1.2413911 ],\n",
       "       [-0.59933163,  1.46593161, -1.35307308, -1.37431252],\n",
       "       [ 1.12182588, -0.11276397,  0.95441355,  1.15119442],\n",
       "       [ 0.50712677,  0.56381985,  1.24284938,  1.68288009],\n",
       "       [-1.09109092,  0.78934779, -1.29538591, -1.10846968],\n",
       "       [-0.84521128,  2.36804338, -1.35307308, -1.50723393],\n",
       "       [ 0.50712677, -1.24040367,  0.66597773,  0.88535159],\n",
       "       [ 2.22828428, -1.01487573,  1.76203388,  1.41703726],\n",
       "       [ 0.1383073 , -1.91698749,  0.08910607, -0.31094117],\n",
       "       [ 1.61358517,  1.24040367,  1.30053655,  1.68288009],\n",
       "       [-1.21403075, -1.46593161, -0.31470409, -0.31094117],\n",
       "       [ 0.26124712, -0.56381985,  0.49291623, -0.04509834],\n",
       "       [ 0.75300641, -0.11276397,  0.78135206,  1.018273  ],\n",
       "       [-0.9681511 ,  1.01487573, -1.41076024, -1.2413911 ],\n",
       "       [ 1.85946481, -0.56381985,  1.30053655,  0.88535159],\n",
       "       [ 0.01536748, -0.11276397,  0.72366489,  0.75243017],\n",
       "       [ 0.63006659, -0.78934779,  0.83903922,  0.88535159],\n",
       "       [-1.82872986, -0.33829191, -1.41076024, -1.37431252],\n",
       "       [-0.35345199, -0.56381985,  0.60829056,  1.018273  ],\n",
       "       [-0.9681511 ,  0.78934779, -1.35307308, -1.37431252],\n",
       "       [-1.09109092,  0.56381985, -1.41076024, -1.37431252],\n",
       "       [-0.23051217, -1.01487573, -0.19932976, -0.31094117],\n",
       "       [ 1.2447657 ,  0.11276397,  0.89672639,  1.15119442],\n",
       "       [-0.47639181, -1.01487573,  0.31985473, -0.04509834],\n",
       "       [ 0.50712677, -0.56381985,  0.72366489,  0.35366592],\n",
       "       [ 1.36770552,  0.33829191,  0.49291623,  0.2207445 ],\n",
       "       [ 1.12182588, -0.56381985,  0.55060339,  0.2207445 ],\n",
       "       [ 0.75300641,  0.33829191,  0.72366489,  1.018273  ],\n",
       "       [ 1.2447657 ,  0.11276397,  0.60829056,  0.35366592],\n",
       "       [-0.47639181, -1.46593161, -0.02626826, -0.17801976],\n",
       "       [-0.35345199, -0.11276397,  0.3775419 ,  0.35366592],\n",
       "       [ 0.1383073 , -0.11276397,  0.55060339,  0.75243017],\n",
       "       [ 0.1383073 , -0.78934779,  0.72366489,  0.48658733],\n",
       "       [-0.10757234, -0.78934779,  0.72366489,  0.88535159],\n",
       "       [ 0.01536748,  0.33829191,  0.55060339,  0.75243017],\n",
       "       [-0.9681511 ,  1.69145955, -1.29538591, -1.37431252],\n",
       "       [ 0.38418694, -1.91698749,  0.3775419 ,  0.35366592],\n",
       "       [-0.35345199, -0.11276397,  0.14679323,  0.08782308],\n",
       "       [-0.35345199, -1.24040367,  0.0314189 , -0.17801976],\n",
       "       [-0.10757234, -0.78934779,  0.14679323, -0.31094117],\n",
       "       [ 0.63006659,  0.11276397,  0.95441355,  0.75243017],\n",
       "       [ 0.87594623, -0.33829191,  0.43522906,  0.08782308],\n",
       "       [-0.47639181,  2.59357132, -1.41076024, -1.37431252],\n",
       "       [-1.82872986, -0.11276397, -1.46844741, -1.37431252],\n",
       "       [ 0.50712677, -0.33829191,  1.01210072,  0.75243017],\n",
       "       [ 0.63006659,  0.33829191,  0.3775419 ,  0.35366592],\n",
       "       [ 1.73652499, -0.33829191,  1.41591088,  0.75243017],\n",
       "       [-1.09109092,  1.24040367, -1.41076024, -1.37431252],\n",
       "       [ 1.49064535, -0.11276397,  1.18516222,  1.15119442],\n",
       "       [-1.21403075,  1.24040367, -1.41076024, -1.50723393],\n",
       "       [ 0.75300641, -0.11276397,  0.95441355,  0.75243017],\n",
       "       [ 0.99888606,  0.56381985,  1.06978789,  1.15119442],\n",
       "       [-0.59933163,  0.78934779, -1.35307308, -1.10846968],\n",
       "       [ 0.26124712, -0.33829191,  0.49291623,  0.2207445 ],\n",
       "       [-1.58285021,  0.33829191, -1.41076024, -1.37431252],\n",
       "       [ 0.99888606, -0.11276397,  0.78135206,  1.41703726],\n",
       "       [-0.23051217, -0.11276397,  0.2044804 , -0.04509834],\n",
       "       [-1.09109092,  0.78934779, -1.35307308, -1.37431252],\n",
       "       [ 0.75300641, -0.11276397,  1.12747505,  1.28411584],\n",
       "       [ 0.87594623, -0.11276397,  0.31985473,  0.2207445 ],\n",
       "       [-1.09109092,  1.01487573, -1.29538591, -0.84262685],\n",
       "       [-1.58285021,  1.24040367, -1.6415089 , -1.37431252],\n",
       "       [ 0.50712677, -1.24040367,  0.60829056,  0.35366592],\n",
       "       [-0.23051217,  3.0446272 , -1.35307308, -1.10846968]])"
      ]
     },
     "execution_count": 18,
     "metadata": {},
     "output_type": "execute_result"
    }
   ],
   "source": [
    "X_train"
   ]
  },
  {
   "cell_type": "markdown",
   "metadata": {},
   "source": [
    "# KNN model  တည်ဆောက်ခြင်း (k=5)"
   ]
  },
  {
   "cell_type": "code",
   "execution_count": 19,
   "metadata": {},
   "outputs": [],
   "source": [
    "knn = KNeighborsClassifier(n_neighbors = 5)"
   ]
  },
  {
   "cell_type": "markdown",
   "metadata": {},
   "source": [
    "# Model ကို traning ပြုလုပ်ခြင်း"
   ]
  },
  {
   "cell_type": "code",
   "execution_count": 20,
   "metadata": {},
   "outputs": [
    {
     "data": {
      "text/plain": [
       "KNeighborsClassifier(algorithm='auto', leaf_size=30, metric='minkowski',\n",
       "                     metric_params=None, n_jobs=None, n_neighbors=5, p=2,\n",
       "                     weights='uniform')"
      ]
     },
     "execution_count": 20,
     "metadata": {},
     "output_type": "execute_result"
    }
   ],
   "source": [
    "knn.fit(X_train, y_train)"
   ]
  },
  {
   "cell_type": "markdown",
   "metadata": {},
   "source": [
    " # Trained model ကို evaluate ပြုလုပ်ခြင်း"
   ]
  },
  {
   "cell_type": "code",
   "execution_count": 22,
   "metadata": {},
   "outputs": [
    {
     "name": "stdout",
     "output_type": "stream",
     "text": [
      "accuracy:  0.9736842105263158\n"
     ]
    }
   ],
   "source": [
    "y_pred = knn.predict(X_test)\n",
    "# print the score\n",
    "print('accuracy: ', knn.score(X_test, y_test))"
   ]
  },
  {
   "cell_type": "markdown",
   "metadata": {},
   "source": [
    "# Cross Validation နည်းလမ်းဖြင့် accuracy တွက်ခြင်း"
   ]
  },
  {
   "cell_type": "code",
   "execution_count": 23,
   "metadata": {},
   "outputs": [
    {
     "name": "stdout",
     "output_type": "stream",
     "text": [
      "[0.96666667 1.         0.93333333 0.96666667 1.        ]\n",
      "0.9733333333333334\n"
     ]
    }
   ],
   "source": [
    "# import k-folder\n",
    "from sklearn.model_selection import cross_val_score\n",
    "# use the same model as before\n",
    "knn = KNeighborsClassifier(n_neighbors = 5)\n",
    "# X,y will automatically devided by 5 folder, the scoring I will still use the accuracy\n",
    "scores = cross_val_score(knn, X, y, cv=5, scoring='accuracy')\n",
    "# print all 5 times scores \n",
    "print(scores)\n",
    "# [ 0.96666667  1.          0.93333333  0.96666667  1.        ]\n",
    "# then I will do the average about these five scores to get more accuracy score.\n",
    "print(scores.mean())"
   ]
  },
  {
   "cell_type": "markdown",
   "metadata": {},
   "source": [
    "#  Cross Validating နည်းလမ်းဖြင့် K အရေအတွက်ရှာဖွေခြင်း"
   ]
  },
  {
   "cell_type": "code",
   "execution_count": 24,
   "metadata": {},
   "outputs": [
    {
     "name": "stdout",
     "output_type": "stream",
     "text": [
      "[0.96, 0.9533333333333334, 0.9666666666666666, 0.9666666666666666, 0.9666666666666668, 0.9666666666666668, 0.9666666666666668, 0.9666666666666668, 0.9733333333333334, 0.9666666666666668, 0.9666666666666668, 0.9733333333333334, 0.9800000000000001, 0.9733333333333334, 0.9733333333333334, 0.9733333333333334, 0.9733333333333334, 0.9800000000000001, 0.9733333333333334, 0.9800000000000001, 0.9666666666666666, 0.9666666666666666, 0.9733333333333334, 0.96, 0.9666666666666666, 0.96, 0.9666666666666666, 0.9533333333333334, 0.9533333333333334]\n"
     ]
    }
   ],
   "source": [
    "# choose k between 1 to 31\n",
    "k_range = range(1, 30)\n",
    "k_scores = []\n",
    "\n",
    "for k in k_range:\n",
    "    knn = KNeighborsClassifier(n_neighbors=k)\n",
    "    scores = cross_val_score(knn, X, y, cv=10, scoring='accuracy')\n",
    "    k_scores.append(scores.mean())\n",
    "\n",
    "print(k_scores)\n",
    "\n",
    "#result = metrics.confusion_matrix(y_test, y_pred)\n"
   ]
  },
  {
   "cell_type": "markdown",
   "metadata": {},
   "source": [
    "# ရလဒ်ကို graph ဖြင့် ကြည့်မြင်ခြင်း"
   ]
  },
  {
   "cell_type": "code",
   "execution_count": 25,
   "metadata": {},
   "outputs": [
    {
     "data": {
      "image/png": "[encoded data removed]",
      "text/plain": [
       "<Figure size 432x288 with 1 Axes>"
      ]
     },
     "metadata": {
      "needs_background": "light"
     },
     "output_type": "display_data"
    }
   ],
   "source": [
    "plt.plot(k_range, k_scores)\n",
    "plt.xlabel('Value of K for KNN')\n",
    "plt.ylabel('Cross-Validated Accuracy')\n",
    "plt.show()"
   ]
  },
  {
   "cell_type": "code",
   "execution_count": 26,
   "metadata": {},
   "outputs": [
    {
     "name": "stdout",
     "output_type": "stream",
     "text": [
      "virginicia\n",
      "virginicia\n"
     ]
    }
   ],
   "source": [
    "classifier = KNeighborsClassifier(n_neighbors=13)\n",
    "classifier.fit(X_train, y_train)\n",
    "\n",
    "classes = {0:'setosa',1:'versicolor',2:'virginicia'}\n",
    "x_new = [[1,1,1,1],[4,3,1.3,0.2]]\n",
    "y_predict = classifier.predict(x_new)\n",
    "print(classes[y_predict[0]])\n",
    "print(classes[y_predict[1]])"
   ]
  },
  {
   "cell_type": "code",
   "execution_count": null,
   "metadata": {},
   "outputs": [],
   "source": []
  }
 ],
 "metadata": {
  "kernelspec": {
   "display_name": "Python 3",
   "language": "python",
   "name": "python3"
  },
  "language_info": {
   "codemirror_mode": {
    "name": "ipython",
    "version": 3
   },
   "file_extension": ".py",
   "mimetype": "text/x-python",
   "name": "python",
   "nbconvert_exporter": "python",
   "pygments_lexer": "ipython3",
   "version": "3.7.6"
  }
 },
 "nbformat": 4,
 "nbformat_minor": 4
}
