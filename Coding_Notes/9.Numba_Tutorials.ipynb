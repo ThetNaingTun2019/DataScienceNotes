{
 "cells": [
  {
   "cell_type": "markdown",
   "metadata": {
    "id": "rRaInIqa_FVz"
   },
   "source": [
    "**No Numba**"
   ]
  },
  {
   "cell_type": "code",
   "execution_count": 1,
   "metadata": {
    "colab": {
     "base_uri": "https://localhost:8080/"
    },
    "executionInfo": {
     "elapsed": 41245,
     "status": "ok",
     "timestamp": 1624121953060,
     "user": {
      "displayName": "THET NAING TUN",
      "photoUrl": "https://lh3.googleusercontent.com/a-/AOh14GgrISHk_EKTGnmLvdbG7NAyC3z-Y6-MNOa6L4-aU54=s64",
      "userId": "14424235604875805864"
     },
     "user_tz": -390
    },
    "id": "pl-eXmX-Hwtf",
    "outputId": "a4fc5365-1cc6-495d-d445-b4c28094701f"
   },
   "outputs": [
    {
     "name": "stdout",
     "output_type": "stream",
     "text": [
      "38.476119500002824\n"
     ]
    }
   ],
   "source": [
    "import numpy as np\n",
    "from timeit import default_timer as timer\n",
    "\n",
    "def pow(a, b, c):\n",
    "    for i in range(a.size):\n",
    "         c[i] = a[i] ** b[i]\n",
    "\n",
    "def main():\n",
    "    vec_size = 100000000\n",
    "\n",
    "    a = b = np.array(np.random.sample(vec_size), dtype=np.float32)\n",
    "    c = np.zeros(vec_size, dtype=np.float32)\n",
    "\n",
    "    start = timer()\n",
    "    pow(a, b, c)\n",
    "    duration = timer() - start\n",
    "\n",
    "    print(duration)\n",
    "\n",
    "if __name__ == '__main__':\n",
    "    main()\n"
   ]
  },
  {
   "cell_type": "markdown",
   "metadata": {
    "id": "eeLaxAei_EXA"
   },
   "source": [
    "**With Numba**"
   ]
  },
  {
   "cell_type": "markdown",
   "metadata": {},
   "source": [
    "#Make sure you have installed \"conda install numba\" in terminal."
   ]
  },
  {
   "cell_type": "code",
   "execution_count": 1,
   "metadata": {
    "colab": {
     "base_uri": "https://localhost:8080/"
    },
    "executionInfo": {
     "elapsed": 2681,
     "status": "ok",
     "timestamp": 1624123270771,
     "user": {
      "displayName": "THET NAING TUN",
      "photoUrl": "https://lh3.googleusercontent.com/a-/AOh14GgrISHk_EKTGnmLvdbG7NAyC3z-Y6-MNOa6L4-aU54=s64",
      "userId": "14424235604875805864"
     },
     "user_tz": -390
    },
    "id": "wUGRJZCaIBTz",
    "outputId": "e8961dda-18c5-4633-bdb9-5c16b0fae676"
   },
   "outputs": [
    {
     "name": "stdout",
     "output_type": "stream",
     "text": [
      "1.4101892999606207\n"
     ]
    }
   ],
   "source": [
    "import numpy as np\n",
    "from timeit import default_timer as timer\n",
    "from numba import vectorize\n",
    "\n",
    "@vectorize(['float32(float32, float32)'], target='cpu') #can use keyword 'cuda' for gpu utilization.\n",
    "def pow(a, b):\n",
    "    return a ** b\n",
    "\n",
    "def main():\n",
    "    vec_size = 100000000\n",
    "\n",
    "    a = b = np.array(np.random.sample(vec_size), dtype=np.float32)\n",
    "    c = np.zeros(vec_size, dtype=np.float32)\n",
    "\n",
    "    start = timer()\n",
    "    c = pow(a, b)\n",
    "    duration = timer() - start\n",
    "\n",
    "    print(duration)\n",
    "\n",
    "if __name__ == '__main__':\n",
    "    main()"
   ]
  },
  {
   "cell_type": "markdown",
   "metadata": {
    "id": "Eqibn9E7WPgq"
   },
   "source": [
    "Below code work well numba."
   ]
  },
  {
   "cell_type": "code",
   "execution_count": null,
   "metadata": {
    "colab": {
     "base_uri": "https://localhost:8080/"
    },
    "executionInfo": {
     "elapsed": 402,
     "status": "ok",
     "timestamp": 1624124208782,
     "user": {
      "displayName": "THET NAING TUN",
      "photoUrl": "https://lh3.googleusercontent.com/a-/AOh14GgrISHk_EKTGnmLvdbG7NAyC3z-Y6-MNOa6L4-aU54=s64",
      "userId": "14424235604875805864"
     },
     "user_tz": -390
    },
    "id": "ndmH68OSNrui",
    "outputId": "c4a31409-b88c-4fbf-a89c-04ff24e1ed02"
   },
   "outputs": [
    {
     "name": "stdout",
     "output_type": "stream",
     "text": [
      "[[  9.  10.  11.  12.  13.  14.  15.  16.  17.  18.]\n",
      " [ 19.  20.  21.  22.  23.  24.  25.  26.  27.  28.]\n",
      " [ 29.  30.  31.  32.  33.  34.  35.  36.  37.  38.]\n",
      " [ 39.  40.  41.  42.  43.  44.  45.  46.  47.  48.]\n",
      " [ 49.  50.  51.  52.  53.  54.  55.  56.  57.  58.]\n",
      " [ 59.  60.  61.  62.  63.  64.  65.  66.  67.  68.]\n",
      " [ 69.  70.  71.  72.  73.  74.  75.  76.  77.  78.]\n",
      " [ 79.  80.  81.  82.  83.  84.  85.  86.  87.  88.]\n",
      " [ 89.  90.  91.  92.  93.  94.  95.  96.  97.  98.]\n",
      " [ 99. 100. 101. 102. 103. 104. 105. 106. 107. 108.]]\n"
     ]
    }
   ],
   "source": [
    "from numba import jit\n",
    "import numpy as np\n",
    "\n",
    "x = np.arange(100).reshape(10, 10)\n",
    "\n",
    "@jit(nopython=True) # Set \"nopython\" mode for best performance, equivalent to @njit\n",
    "def go_fast(a): # Function is compiled to machine code when called the first time\n",
    "    trace = 0.0\n",
    "    for i in range(a.shape[0]):   # Numba likes loops\n",
    "        trace += np.tanh(a[i, i]) # Numba likes NumPy functions\n",
    "    return a + trace              # Numba likes NumPy broadcasting\n",
    "\n",
    "print(go_fast(x))"
   ]
  },
  {
   "cell_type": "markdown",
   "metadata": {
    "id": "miXz_VgAWTcb"
   },
   "source": [
    "Below code won't work well due to pandas."
   ]
  },
  {
   "cell_type": "code",
   "execution_count": null,
   "metadata": {
    "colab": {
     "base_uri": "https://localhost:8080/"
    },
    "executionInfo": {
     "elapsed": 421,
     "status": "ok",
     "timestamp": 1624124239849,
     "user": {
      "displayName": "THET NAING TUN",
      "photoUrl": "https://lh3.googleusercontent.com/a-/AOh14GgrISHk_EKTGnmLvdbG7NAyC3z-Y6-MNOa6L4-aU54=s64",
      "userId": "14424235604875805864"
     },
     "user_tz": -390
    },
    "id": "EaDyuATxWLKO",
    "outputId": "5d536125-5da2-47fb-f16d-e5fb7c58ffa0"
   },
   "outputs": [
    {
     "name": "stdout",
     "output_type": "stream",
     "text": [
      "      a      b\n",
      "a   1.0   10.0\n",
      "b  10.0  100.0\n"
     ]
    },
    {
     "name": "stderr",
     "output_type": "stream",
     "text": [
      "<ipython-input-11-1a34fc432c2d>:6: NumbaWarning: \n",
      "Compilation is falling back to object mode WITH looplifting enabled because Function \"use_pandas\" failed type inference due to: non-precise type pyobject\n",
      "During: typing of argument at <ipython-input-11-1a34fc432c2d> (8)\n",
      "\n",
      "File \"<ipython-input-11-1a34fc432c2d>\", line 8:\n",
      "def use_pandas(a): # Function will not benefit from Numba jit\n",
      "    df = pd.DataFrame.from_dict(a) # Numba doesn't know about pd.DataFrame\n",
      "    ^\n",
      "\n",
      "  @jit\n",
      "/usr/local/lib/python3.7/dist-packages/numba/core/object_mode_passes.py:178: NumbaWarning: Function \"use_pandas\" was compiled in object mode without forceobj=True.\n",
      "\n",
      "File \"<ipython-input-11-1a34fc432c2d>\", line 7:\n",
      "@jit\n",
      "def use_pandas(a): # Function will not benefit from Numba jit\n",
      "^\n",
      "\n",
      "  state.func_ir.loc))\n",
      "/usr/local/lib/python3.7/dist-packages/numba/core/object_mode_passes.py:188: NumbaDeprecationWarning: \n",
      "Fall-back from the nopython compilation path to the object mode compilation path has been detected, this is deprecated behaviour.\n",
      "\n",
      "For more information visit https://numba.pydata.org/numba-doc/latest/reference/deprecation.html#deprecation-of-object-mode-fall-back-behaviour-when-using-jit\n",
      "\n",
      "File \"<ipython-input-11-1a34fc432c2d>\", line 7:\n",
      "@jit\n",
      "def use_pandas(a): # Function will not benefit from Numba jit\n",
      "^\n",
      "\n",
      "  state.func_ir.loc))\n"
     ]
    }
   ],
   "source": [
    "from numba import jit\n",
    "import pandas as pd\n",
    "\n",
    "x = {'a': [1, 2, 3], 'b': [20, 30, 40]}\n",
    "\n",
    "@jit\n",
    "def use_pandas(a): # Function will not benefit from Numba jit\n",
    "    df = pd.DataFrame.from_dict(a) # Numba doesn't know about pd.DataFrame\n",
    "    df += 1                        # Numba doesn't understand what this is\n",
    "    return df.cov()                # or this!\n",
    "\n",
    "print(use_pandas(x))"
   ]
  },
  {
   "cell_type": "markdown",
   "metadata": {
    "id": "N_fn874faRG3"
   },
   "source": [
    "**No Python mode vs Object mode**\n",
    "Nopython is without the use of python interpreter, direct compiling.\n",
    "Object mode is first try nopython then python interpreter."
   ]
  },
  {
   "cell_type": "code",
   "execution_count": null,
   "metadata": {
    "colab": {
     "base_uri": "https://localhost:8080/"
    },
    "executionInfo": {
     "elapsed": 598,
     "status": "ok",
     "timestamp": 1624124318949,
     "user": {
      "displayName": "THET NAING TUN",
      "photoUrl": "https://lh3.googleusercontent.com/a-/AOh14GgrISHk_EKTGnmLvdbG7NAyC3z-Y6-MNOa6L4-aU54=s64",
      "userId": "14424235604875805864"
     },
     "user_tz": -390
    },
    "id": "I5lb82eDWSv4",
    "outputId": "b4ea2eb1-3db4-45a7-b268-3a1129362df6"
   },
   "outputs": [
    {
     "name": "stdout",
     "output_type": "stream",
     "text": [
      "Elapsed (with compilation) = 0.18734025955200195\n",
      "Elapsed (after compilation) = 4.76837158203125e-05\n"
     ]
    }
   ],
   "source": [
    "from numba import jit\n",
    "import numpy as np\n",
    "import time\n",
    "\n",
    "x = np.arange(100).reshape(10, 10)\n",
    "\n",
    "@jit(nopython=True)\n",
    "def go_fast(a): # Function is compiled and runs in machine code\n",
    "    trace = 0.0\n",
    "    for i in range(a.shape[0]):\n",
    "        trace += np.tanh(a[i, i])\n",
    "    return a + trace\n",
    "\n",
    "# DO NOT REPORT THIS... COMPILATION TIME IS INCLUDED IN THE EXECUTION TIME!\n",
    "start = time.time()\n",
    "go_fast(x)\n",
    "end = time.time()\n",
    "print(\"Elapsed (with compilation) = %s\" % (end - start))\n",
    "\n",
    "# NOW THE FUNCTION IS COMPILED, RE-TIME IT EXECUTING FROM CACHE\n",
    "start = time.time()\n",
    "go_fast(x)\n",
    "end = time.time()\n",
    "print(\"Elapsed (after compilation) = %s\" % (end - start))"
   ]
  },
  {
   "cell_type": "markdown",
   "metadata": {
    "id": "KDUtqpxoY0nz"
   },
   "source": [
    "Below code can run at almost same speed if njit used."
   ]
  },
  {
   "cell_type": "code",
   "execution_count": null,
   "metadata": {
    "id": "Q2OtZtA0WkMv"
   },
   "outputs": [],
   "source": [
    "@njit\n",
    "def ident_np(x):\n",
    "    return np.cos(x) ** 2 + np.sin(x) ** 2\n",
    "\n",
    "@njit\n",
    "def ident_loops(x):\n",
    "    r = np.empty_like(x)\n",
    "    n = len(x)\n",
    "    for i in range(n):\n",
    "        r[i] = np.cos(x[i]) ** 2 + np.sin(x[i]) ** 2\n",
    "    return r"
   ]
  },
  {
   "cell_type": "markdown",
   "metadata": {
    "id": "L_D9mheDY9UE"
   },
   "source": [
    "Function|@njit|Speed\n",
    "--|--|--\n",
    "ident_np|No|0.581s\n",
    "dent_np|Yes|0.659s\n",
    "dent_loops|No|25.2s\n",
    "dent_loops|Yes|0.670s\n",
    "\n",
    "\n"
   ]
  },
  {
   "cell_type": "markdown",
   "metadata": {
    "id": "EhyxtMyvax1v"
   },
   "source": [
    "**Fastmath** can increase due to vectorization."
   ]
  },
  {
   "cell_type": "code",
   "execution_count": null,
   "metadata": {
    "id": "et4OA7KtZCVU"
   },
   "outputs": [],
   "source": [
    "@njit(fastmath=False)\n",
    "def do_sum(A):\n",
    "    acc = 0.\n",
    "    # without fastmath, this loop must accumulate in strict order\n",
    "    for x in A:\n",
    "        acc += np.sqrt(x)\n",
    "    return acc\n",
    "\n",
    "@njit(fastmath=True)\n",
    "def do_sum_fast(A):\n",
    "    acc = 0.\n",
    "    # with fastmath, the reduction can be vectorized as floating point\n",
    "    # reassociation is permitted.\n",
    "    for x in A:\n",
    "        acc += np.sqrt(x)\n",
    "    return acc"
   ]
  },
  {
   "cell_type": "markdown",
   "metadata": {
    "id": "p9OOP-3kbHK9"
   },
   "source": [
    "Function Name|Execution time\n",
    "--|--\n",
    "do_sum|35.2 ms\n",
    "do_sum_fast|17.8 ms\n",
    "\n",
    "For optional, you can learn more in LLVM fast-math-flags."
   ]
  },
  {
   "cell_type": "code",
   "execution_count": null,
   "metadata": {
    "id": "CxJhv0_8bIqC"
   },
   "outputs": [],
   "source": []
  },
  {
   "cell_type": "markdown",
   "metadata": {
    "id": "DkKwCwZI77jm"
   },
   "source": [
    "**TypedList**"
   ]
  },
  {
   "cell_type": "markdown",
   "metadata": {
    "id": "0UQ4pG436lio"
   },
   "source": [
    "Jit nopython=True သုံးရာတွင် argument သည် List ဖြစ်ပါက ပြင်ဆင်နိုင်ခွင့်ရှိနေသောကြောင့် Relection List ဟု warning ပေါ်မည်။ Warning မပေါ်စေရန် from numba.typed import List ကိုသွင်းပြီး python list ကို List() ဖြင့်ပြောင်းပါ။"
   ]
  },
  {
   "cell_type": "code",
   "execution_count": null,
   "metadata": {
    "id": "ih8-n1088F22"
   },
   "outputs": [],
   "source": []
  }
 ],
 "metadata": {
  "accelerator": "GPU",
  "colab": {
   "authorship_tag": "ABX9TyMI75wlFOSuzZMWTSsLWuKb",
   "collapsed_sections": [],
   "name": "Numba_Tutorials.ipynb",
   "provenance": []
  },
  "kernelspec": {
   "display_name": "Python 3 (ipykernel)",
   "language": "python",
   "name": "python3"
  },
  "language_info": {
   "codemirror_mode": {
    "name": "ipython",
    "version": 3
   },
   "file_extension": ".py",
   "mimetype": "text/x-python",
   "name": "python",
   "nbconvert_exporter": "python",
   "pygments_lexer": "ipython3",
   "version": "3.10.8"
  }
 },
 "nbformat": 4,
 "nbformat_minor": 1
}
