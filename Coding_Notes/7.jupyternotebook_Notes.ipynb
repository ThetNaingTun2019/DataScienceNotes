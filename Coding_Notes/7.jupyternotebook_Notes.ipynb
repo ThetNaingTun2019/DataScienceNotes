{
 "cells": [
  {
   "cell_type": "markdown",
   "metadata": {
    "id": "JiBnRZQHdgoG"
   },
   "source": [
    "**Jupyter Notebook themes to be changed**"
   ]
  },
  {
   "cell_type": "code",
   "execution_count": 1,
   "metadata": {
    "colab": {
     "background_save": true,
     "base_uri": "https://localhost:8080/"
    },
    "executionInfo": {
     "elapsed": 4185,
     "status": "ok",
     "timestamp": 1624981394580,
     "user": {
      "displayName": "THET NAING TUN",
      "photoUrl": "https://lh3.googleusercontent.com/a-/AOh14GgrISHk_EKTGnmLvdbG7NAyC3z-Y6-MNOa6L4-aU54=s64",
      "userId": "14424235604875805864"
     },
     "user_tz": -390
    },
    "id": "-CTfYaBJdmuu"
   },
   "outputs": [
    {
     "name": "stderr",
     "output_type": "stream",
     "text": [
      "ERROR: Invalid requirement: '#command'\n"
     ]
    },
    {
     "data": {
      "text/plain": [
       "'jt -r'"
      ]
     },
     "execution_count": 1,
     "metadata": {},
     "output_type": "execute_result"
    }
   ],
   "source": [
    "#https://github.com/dunovank/jupyter-themes\n",
    "!pip install jupyterthemes #command line တွင် သက်သက်သွားရောက်သွင်းပါမှ effect ဖြစ်မည်။ ! ခံသွင်းနေပါက မပြောင်းပါ။\n",
    "!jt -t grade3\n",
    "#default theme ကိုပြန်သွားရန်\n",
    "#\"jt -r\" #to reset the theme to default. In command prompt, direct can be used."
   ]
  },
  {
   "cell_type": "code",
   "execution_count": null,
   "metadata": {
    "id": "dMxKIM6CZG6C"
   },
   "outputs": [],
   "source": []
  }
 ],
 "metadata": {
  "colab": {
   "authorship_tag": "ABX9TyNVxLkd6uewes+tZA8dPw18",
   "collapsed_sections": [],
   "name": "jupyternotebook_Notes.ipynb",
   "version": ""
  },
  "kernelspec": {
   "display_name": "Python 3 (ipykernel)",
   "language": "python",
   "name": "python3"
  },
  "language_info": {
   "codemirror_mode": {
    "name": "ipython",
    "version": 3
   },
   "file_extension": ".py",
   "mimetype": "text/x-python",
   "name": "python",
   "nbconvert_exporter": "python",
   "pygments_lexer": "ipython3",
   "version": "3.8.15"
  }
 },
 "nbformat": 4,
 "nbformat_minor": 1
}
