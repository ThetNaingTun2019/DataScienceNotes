{
 "cells": [
  {
   "cell_type": "code",
   "execution_count": null,
   "metadata": {
    "colab": {
     "base_uri": "https://localhost:8080/",
     "height": 33
    },
    "executionInfo": {
     "elapsed": 835,
     "status": "ok",
     "timestamp": 1597382302044,
     "user": {
      "displayName": "THET NAING TUN",
      "photoUrl": "https://lh3.googleusercontent.com/a-/AOh14GhZOs0ISaIdh4VhAT9I6SgElNYl0kn9fq_glY6ubA=s64",
      "userId": "14424235604875805864"
     },
     "user_tz": -390
    },
    "id": "hF_SwTnymAgO",
    "outputId": "b539048c-5714-4461-b7e1-58920c3e0b47"
   },
   "outputs": [
    {
     "name": "stdout",
     "output_type": "stream",
     "text": [
      "8\n"
     ]
    }
   ],
   "source": [
    "import numpy as np\n",
    "arr1=np.arange(9).reshape(3,3)\n",
    "print(np.max(arr1))"
   ]
  },
  {
   "cell_type": "code",
   "execution_count": null,
   "metadata": {
    "colab": {
     "base_uri": "https://localhost:8080/",
     "height": 83
    },
    "executionInfo": {
     "elapsed": 873,
     "status": "ok",
     "timestamp": 1597379031143,
     "user": {
      "displayName": "THET NAING TUN",
      "photoUrl": "https://lh3.googleusercontent.com/a-/AOh14GhZOs0ISaIdh4VhAT9I6SgElNYl0kn9fq_glY6ubA=s64",
      "userId": "14424235604875805864"
     },
     "user_tz": -390
    },
    "id": "o9N6kH2hmLq5",
    "outputId": "7c4da975-b730-4b50-b441-849aa83043da"
   },
   "outputs": [
    {
     "name": "stdout",
     "output_type": "stream",
     "text": [
      "0\n",
      "2\n",
      "4\n",
      "6\n"
     ]
    }
   ],
   "source": [
    "for each in range(0,8,2):\n",
    "  print(each)"
   ]
  },
  {
   "cell_type": "code",
   "execution_count": null,
   "metadata": {
    "colab": {
     "base_uri": "https://localhost:8080/",
     "height": 33
    },
    "executionInfo": {
     "elapsed": 1007,
     "status": "ok",
     "timestamp": 1597377522195,
     "user": {
      "displayName": "THET NAING TUN",
      "photoUrl": "https://lh3.googleusercontent.com/a-/AOh14GhZOs0ISaIdh4VhAT9I6SgElNYl0kn9fq_glY6ubA=s64",
      "userId": "14424235604875805864"
     },
     "user_tz": -390
    },
    "id": "5FfZXL93BvQ1",
    "outputId": "2c92c17f-425a-4c92-a442-c3b0d398ed14"
   },
   "outputs": [
    {
     "name": "stdout",
     "output_type": "stream",
     "text": [
      "[[-0.7422735  0.7536983 -0.1695517]]\n"
     ]
    }
   ],
   "source": [
    "A_prev = np.random.randn(1,3)\n",
    "print(A_prev)"
   ]
  },
  {
   "cell_type": "code",
   "execution_count": null,
   "metadata": {
    "colab": {
     "base_uri": "https://localhost:8080/",
     "height": 116
    },
    "executionInfo": {
     "elapsed": 885,
     "status": "ok",
     "timestamp": 1597387529398,
     "user": {
      "displayName": "THET NAING TUN",
      "photoUrl": "https://lh3.googleusercontent.com/a-/AOh14GhZOs0ISaIdh4VhAT9I6SgElNYl0kn9fq_glY6ubA=s64",
      "userId": "14424235604875805864"
     },
     "user_tz": -390
    },
    "id": "u-sdRT1eHWM1",
    "outputId": "13f50aa1-3fb0-4ae0-d878-9ca845d80361"
   },
   "outputs": [
    {
     "name": "stdout",
     "output_type": "stream",
     "text": [
      "[[ 3  4  5  6]\n",
      " [ 7  8  9 10]]\n",
      "[[12 13 14 15]\n",
      " [16 17 18 19]]\n",
      "[[ 3  4  5  6 12 13 14 15]\n",
      " [ 7  8  9 10 16 17 18 19]]\n"
     ]
    }
   ],
   "source": [
    "arr1=np.arange(3,11).reshape(2,4)\n",
    "arr2=np.arange(12,20).reshape(2,4)\n",
    "print(arr1)\n",
    "print(arr2)\n",
    "arr=np.concatenate((arr1,arr2),axis=1)\n",
    "print(arr)"
   ]
  },
  {
   "cell_type": "code",
   "execution_count": null,
   "metadata": {
    "colab": {
     "base_uri": "https://localhost:8080/",
     "height": 50
    },
    "executionInfo": {
     "elapsed": 856,
     "status": "ok",
     "timestamp": 1597390795014,
     "user": {
      "displayName": "THET NAING TUN",
      "photoUrl": "https://lh3.googleusercontent.com/a-/AOh14GhZOs0ISaIdh4VhAT9I6SgElNYl0kn9fq_glY6ubA=s64",
      "userId": "14424235604875805864"
     },
     "user_tz": -390
    },
    "id": "oT5z8nK6pktd",
    "outputId": "050ae714-ebc7-42de-b9fd-015847de3309"
   },
   "outputs": [
    {
     "name": "stdout",
     "output_type": "stream",
     "text": [
      "Name: Thet Naing Tun, I will comminting\n",
      "Name: Zaw Lwin Oo, I will comminting\n"
     ]
    }
   ],
   "source": [
    "vote_list=[\"Thet Naing Tun\", \"Zaw Lwin Oo\"]\n",
    "for each in vote_list:\n",
    "  print(\"Name: {}, I will comminting\".format(each))"
   ]
  },
  {
   "cell_type": "code",
   "execution_count": null,
   "metadata": {
    "colab": {
     "base_uri": "https://localhost:8080/",
     "height": 53
    },
    "executionInfo": {
     "elapsed": 2286,
     "status": "ok",
     "timestamp": 1597510617931,
     "user": {
      "displayName": "THET NAING TUN",
      "photoUrl": "https://lh3.googleusercontent.com/a-/AOh14GhZOs0ISaIdh4VhAT9I6SgElNYl0kn9fq_glY6ubA=s64",
      "userId": "14424235604875805864"
     },
     "user_tz": -390
    },
    "id": "fAZ03OIt6IGj",
    "outputId": "a40ed2f3-2fac-4f92-e312-ceb195d65a97"
   },
   "outputs": [
    {
     "name": "stdout",
     "output_type": "stream",
     "text": [
      "[[False False False False False]\n",
      " [False False  True False False]]\n"
     ]
    }
   ],
   "source": [
    "import numpy as np\n",
    "A=np.arange(10).reshape(2,5)\n",
    "B=(A==7)\n",
    "print(B)"
   ]
  },
  {
   "cell_type": "code",
   "execution_count": null,
   "metadata": {
    "id": "jOIWdM04DLjN"
   },
   "outputs": [],
   "source": [
    "! pip install -q kaggle"
   ]
  },
  {
   "cell_type": "code",
   "execution_count": 1,
   "metadata": {
    "colab": {
     "base_uri": "https://localhost:8080/"
    },
    "executionInfo": {
     "elapsed": 1511,
     "status": "ok",
     "timestamp": 1625101794695,
     "user": {
      "displayName": "THET NAING TUN",
      "photoUrl": "https://lh3.googleusercontent.com/a-/AOh14GgrISHk_EKTGnmLvdbG7NAyC3z-Y6-MNOa6L4-aU54=s64",
      "userId": "14424235604875805864"
     },
     "user_tz": -390
    },
    "id": "jGth7eKKnO3b",
    "outputId": "ccdb3d5a-0638-4e57-fe9d-86c56b046eae"
   },
   "outputs": [
    {
     "name": "stdout",
     "output_type": "stream",
     "text": [
      "Python 3.8.6\n"
     ]
    }
   ],
   "source": [
    "!python --version"
   ]
  },
  {
   "cell_type": "code",
   "execution_count": 6,
   "metadata": {
    "executionInfo": {
     "elapsed": 1121,
     "status": "ok",
     "timestamp": 1625101940228,
     "user": {
      "displayName": "THET NAING TUN",
      "photoUrl": "https://lh3.googleusercontent.com/a-/AOh14GgrISHk_EKTGnmLvdbG7NAyC3z-Y6-MNOa6L4-aU54=s64",
      "userId": "14424235604875805864"
     },
     "user_tz": -390
    },
    "id": "-CctpTtenkmy"
   },
   "outputs": [],
   "source": [
    "!pip list>test.txt"
   ]
  },
  {
   "cell_type": "code",
   "execution_count": null,
   "metadata": {
    "colab": {
     "base_uri": "https://localhost:8080/",
     "height": 401,
     "resources": {
      "http://localhost:8080/nbextensions/google.colab/files.js": {
       "data": "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",
       "headers": [
        [
         "content-type",
         "application/javascript"
        ]
       ],
       "ok": true,
       "status": 200,
       "status_text": ""
      }
     }
    },
    "executionInfo": {
     "elapsed": 446541,
     "status": "error",
     "timestamp": 1603640235445,
     "user": {
      "displayName": "THET NAING TUN",
      "photoUrl": "https://lh3.googleusercontent.com/a-/AOh14GgrISHk_EKTGnmLvdbG7NAyC3z-Y6-MNOa6L4-aU54=s64",
      "userId": "14424235604875805864"
     },
     "user_tz": -390
    },
    "id": "hY-FdntuYO1r",
    "outputId": "8e5f39f1-857f-426e-e44c-23906a140088"
   },
   "outputs": [
    {
     "data": {
      "text/html": [
       "\n",
       "     <input type=\"file\" id=\"files-a04f3339-f1d2-4b1c-a235-f1c4d97e0f9a\" name=\"files[]\" multiple disabled\n",
       "        style=\"border:none\" />\n",
       "     <output id=\"result-a04f3339-f1d2-4b1c-a235-f1c4d97e0f9a\">\n",
       "      Upload widget is only available when the cell has been executed in the\n",
       "      current browser session. Please rerun this cell to enable.\n",
       "      </output>\n",
       "      <script src=\"/nbextensions/google.colab/files.js\"></script> "
      ],
      "text/plain": [
       "<IPython.core.display.HTML object>"
      ]
     },
     "metadata": {
      "tags": []
     },
     "output_type": "display_data"
    },
    {
     "name": "stdout",
     "output_type": "stream",
     "text": [
      "Saving recipes.json to recipes.json\n"
     ]
    },
    {
     "ename": "KeyboardInterrupt",
     "evalue": "ignored",
     "output_type": "error",
     "traceback": [
      "\u001b[0;31m---------------------------------------------------------------------------\u001b[0m",
      "\u001b[0;31mKeyboardInterrupt\u001b[0m                         Traceback (most recent call last)",
      "\u001b[0;32m<ipython-input-2-aac4dfaac8e9>\u001b[0m in \u001b[0;36m<module>\u001b[0;34m()\u001b[0m\n\u001b[1;32m      1\u001b[0m \u001b[0;32mfrom\u001b[0m \u001b[0mgoogle\u001b[0m\u001b[0;34m.\u001b[0m\u001b[0mcolab\u001b[0m \u001b[0;32mimport\u001b[0m \u001b[0mfiles\u001b[0m\u001b[0;34m\u001b[0m\u001b[0;34m\u001b[0m\u001b[0m\n\u001b[1;32m      2\u001b[0m \u001b[0;34m\u001b[0m\u001b[0m\n\u001b[0;32m----> 3\u001b[0;31m \u001b[0mfiles\u001b[0m\u001b[0;34m.\u001b[0m\u001b[0mupload\u001b[0m\u001b[0;34m(\u001b[0m\u001b[0;34m)\u001b[0m\u001b[0;34m\u001b[0m\u001b[0;34m\u001b[0m\u001b[0m\n\u001b[0m",
      "\u001b[0;32m/usr/local/lib/python3.6/dist-packages/google/colab/files.py\u001b[0m in \u001b[0;36mupload\u001b[0;34m()\u001b[0m\n\u001b[1;32m     70\u001b[0m     result = _output.eval_js(\n\u001b[1;32m     71\u001b[0m         'google.colab._files._uploadFilesContinue(\"{output_id}\")'.format(\n\u001b[0;32m---> 72\u001b[0;31m             output_id=output_id))\n\u001b[0m\u001b[1;32m     73\u001b[0m     \u001b[0;32mif\u001b[0m \u001b[0mresult\u001b[0m\u001b[0;34m[\u001b[0m\u001b[0;34m'action'\u001b[0m\u001b[0;34m]\u001b[0m \u001b[0;34m!=\u001b[0m \u001b[0;34m'append'\u001b[0m\u001b[0;34m:\u001b[0m\u001b[0;34m\u001b[0m\u001b[0;34m\u001b[0m\u001b[0m\n\u001b[1;32m     74\u001b[0m       \u001b[0;31m# JS side uses a generator of promises to process all of the files- some\u001b[0m\u001b[0;34m\u001b[0m\u001b[0;34m\u001b[0m\u001b[0;34m\u001b[0m\u001b[0m\n",
      "\u001b[0;32m/usr/local/lib/python3.6/dist-packages/google/colab/output/_js.py\u001b[0m in \u001b[0;36meval_js\u001b[0;34m(script, ignore_result)\u001b[0m\n\u001b[1;32m     37\u001b[0m   \u001b[0;32mif\u001b[0m \u001b[0mignore_result\u001b[0m\u001b[0;34m:\u001b[0m\u001b[0;34m\u001b[0m\u001b[0;34m\u001b[0m\u001b[0m\n\u001b[1;32m     38\u001b[0m     \u001b[0;32mreturn\u001b[0m\u001b[0;34m\u001b[0m\u001b[0;34m\u001b[0m\u001b[0m\n\u001b[0;32m---> 39\u001b[0;31m   \u001b[0;32mreturn\u001b[0m \u001b[0m_message\u001b[0m\u001b[0;34m.\u001b[0m\u001b[0mread_reply_from_input\u001b[0m\u001b[0;34m(\u001b[0m\u001b[0mrequest_id\u001b[0m\u001b[0;34m)\u001b[0m\u001b[0;34m\u001b[0m\u001b[0;34m\u001b[0m\u001b[0m\n\u001b[0m\u001b[1;32m     40\u001b[0m \u001b[0;34m\u001b[0m\u001b[0m\n\u001b[1;32m     41\u001b[0m \u001b[0;34m\u001b[0m\u001b[0m\n",
      "\u001b[0;32m/usr/local/lib/python3.6/dist-packages/google/colab/_message.py\u001b[0m in \u001b[0;36mread_reply_from_input\u001b[0;34m(message_id, timeout_sec)\u001b[0m\n\u001b[1;32m     99\u001b[0m     \u001b[0mreply\u001b[0m \u001b[0;34m=\u001b[0m \u001b[0m_read_next_input_message\u001b[0m\u001b[0;34m(\u001b[0m\u001b[0;34m)\u001b[0m\u001b[0;34m\u001b[0m\u001b[0;34m\u001b[0m\u001b[0m\n\u001b[1;32m    100\u001b[0m     \u001b[0;32mif\u001b[0m \u001b[0mreply\u001b[0m \u001b[0;34m==\u001b[0m \u001b[0m_NOT_READY\u001b[0m \u001b[0;32mor\u001b[0m \u001b[0;32mnot\u001b[0m \u001b[0misinstance\u001b[0m\u001b[0;34m(\u001b[0m\u001b[0mreply\u001b[0m\u001b[0;34m,\u001b[0m \u001b[0mdict\u001b[0m\u001b[0;34m)\u001b[0m\u001b[0;34m:\u001b[0m\u001b[0;34m\u001b[0m\u001b[0;34m\u001b[0m\u001b[0m\n\u001b[0;32m--> 101\u001b[0;31m       \u001b[0mtime\u001b[0m\u001b[0;34m.\u001b[0m\u001b[0msleep\u001b[0m\u001b[0;34m(\u001b[0m\u001b[0;36m0.025\u001b[0m\u001b[0;34m)\u001b[0m\u001b[0;34m\u001b[0m\u001b[0;34m\u001b[0m\u001b[0m\n\u001b[0m\u001b[1;32m    102\u001b[0m       \u001b[0;32mcontinue\u001b[0m\u001b[0;34m\u001b[0m\u001b[0;34m\u001b[0m\u001b[0m\n\u001b[1;32m    103\u001b[0m     if (reply.get('type') == 'colab_reply' and\n",
      "\u001b[0;31mKeyboardInterrupt\u001b[0m: "
     ]
    }
   ],
   "source": [
    "from google.colab import files\n",
    "\n",
    "files.upload()"
   ]
  },
  {
   "cell_type": "code",
   "execution_count": null,
   "metadata": {
    "id": "2swmkAX8YUUi"
   },
   "outputs": [],
   "source": [
    "! mkdir ~/.kaggle"
   ]
  },
  {
   "cell_type": "code",
   "execution_count": null,
   "metadata": {
    "id": "r_HtAchpZKUB"
   },
   "outputs": [],
   "source": [
    "! cp kaggle.json ~/.kaggle/"
   ]
  },
  {
   "cell_type": "code",
   "execution_count": null,
   "metadata": {
    "id": "vAcb7g8sZap-"
   },
   "outputs": [],
   "source": [
    "! chmod 600 ~/.kaggle/kaggle.json"
   ]
  },
  {
   "cell_type": "code",
   "execution_count": null,
   "metadata": {
    "colab": {
     "base_uri": "https://localhost:8080/",
     "height": 292
    },
    "executionInfo": {
     "elapsed": 3394,
     "status": "ok",
     "timestamp": 1603640348581,
     "user": {
      "displayName": "THET NAING TUN",
      "photoUrl": "https://lh3.googleusercontent.com/a-/AOh14GgrISHk_EKTGnmLvdbG7NAyC3z-Y6-MNOa6L4-aU54=s64",
      "userId": "14424235604875805864"
     },
     "user_tz": -390
    },
    "id": "v83OP9wFZiWL",
    "outputId": "9ed5053a-047e-4ac7-f87e-e421da2d0c37"
   },
   "outputs": [
    {
     "name": "stdout",
     "output_type": "stream",
     "text": [
      "--2020-10-25 15:39:34--  https://www.kaggle.com/sterby/german-recipes-dataset/download\n",
      "Resolving www.kaggle.com (www.kaggle.com)... 35.244.233.98\n",
      "Connecting to www.kaggle.com (www.kaggle.com)|35.244.233.98|:443... connected.\n",
      "HTTP request sent, awaiting response... 302 Found\n",
      "Location: /account/login?returnUrl=%2Fsterby%2Fgerman-recipes-dataset%3Fresource%3Ddownload%26downloadHash%3D103cab1ce34ee437b5ea0c17581429ad99fcd3183de99cdc1e4bb46f6949dda9&message=Welcome to Kaggle! Join our community of over 5 million data scientists. Find datasets and code as well as free access to compute on our platform.&titleType=dataset-downloads&showDatasetDownloadSkip=True [following]\n",
      "--2020-10-25 15:39:34--  https://www.kaggle.com/account/login?returnUrl=%2Fsterby%2Fgerman-recipes-dataset%3Fresource%3Ddownload%26downloadHash%3D103cab1ce34ee437b5ea0c17581429ad99fcd3183de99cdc1e4bb46f6949dda9&message=Welcome%20to%20Kaggle!%20Join%20our%20community%20of%20over%205%20million%20data%20scientists.%20Find%20datasets%20and%20code%20as%20well%20as%20free%20access%20to%20compute%20on%20our%20platform.&titleType=dataset-downloads&showDatasetDownloadSkip=True\n",
      "Reusing existing connection to www.kaggle.com:443.\n",
      "HTTP request sent, awaiting response... 200 OK\n",
      "Length: unspecified [text/html]\n",
      "Saving to: ‘download’\n",
      "\n",
      "\r",
      "download                [<=>                 ]       0  --.-KB/s               \r",
      "download                [ <=>                ]   7.55K  --.-KB/s    in 0s      \n",
      "\n",
      "2020-10-25 15:39:34 (67.7 MB/s) - ‘download’ saved [7733]\n",
      "\n"
     ]
    }
   ],
   "source": [
    "!wget https://www.kaggle.com/sterby/german-recipes-dataset/download\n"
   ]
  },
  {
   "cell_type": "code",
   "execution_count": null,
   "metadata": {
    "colab": {
     "base_uri": "https://localhost:8080/",
     "height": 34
    },
    "executionInfo": {
     "elapsed": 8015,
     "status": "ok",
     "timestamp": 1603640439121,
     "user": {
      "displayName": "THET NAING TUN",
      "photoUrl": "https://lh3.googleusercontent.com/a-/AOh14GgrISHk_EKTGnmLvdbG7NAyC3z-Y6-MNOa6L4-aU54=s64",
      "userId": "14424235604875805864"
     },
     "user_tz": -390
    },
    "id": "Q7BoO82NaJwD",
    "outputId": "914e6ae0-880d-404d-f1d9-884a98df925f"
   },
   "outputs": [
    {
     "name": "stdout",
     "output_type": "stream",
     "text": [
      "download  \u001b[0m\u001b[01;34mdrive\u001b[0m/  \u001b[01;34msample_data\u001b[0m/\n"
     ]
    }
   ],
   "source": [
    "ls"
   ]
  },
  {
   "cell_type": "code",
   "execution_count": null,
   "metadata": {
    "colab": {
     "base_uri": "https://localhost:8080/",
     "height": 442
    },
    "executionInfo": {
     "elapsed": 1908,
     "status": "ok",
     "timestamp": 1603640722116,
     "user": {
      "displayName": "THET NAING TUN",
      "photoUrl": "https://lh3.googleusercontent.com/a-/AOh14GgrISHk_EKTGnmLvdbG7NAyC3z-Y6-MNOa6L4-aU54=s64",
      "userId": "14424235604875805864"
     },
     "user_tz": -390
    },
    "id": "b5Yp6ihkah3U",
    "outputId": "7daaa4f9-6350-4512-c800-2dbaa7813f9c"
   },
   "outputs": [
    {
     "name": "stdout",
     "output_type": "stream",
     "text": [
      "--2020-10-25 15:45:49--  https://docs.google.com/spreadsheets/d/1yoHIzDcD62lBmtVf3WheVZuSpW6DwIa03UrPlZIXfiI\n",
      "Resolving docs.google.com (docs.google.com)... 173.194.217.101, 173.194.217.102, 173.194.217.139, ...\n",
      "Connecting to docs.google.com (docs.google.com)|173.194.217.101|:443... connected.\n",
      "HTTP request sent, awaiting response... 302 Moved Temporarily\n",
      "Location: https://docs.google.com/spreadsheets/d/1yoHIzDcD62lBmtVf3WheVZuSpW6DwIa03UrPlZIXfiI/ [following]\n",
      "--2020-10-25 15:45:49--  https://docs.google.com/spreadsheets/d/1yoHIzDcD62lBmtVf3WheVZuSpW6DwIa03UrPlZIXfiI/\n",
      "Reusing existing connection to docs.google.com:443.\n",
      "HTTP request sent, awaiting response... 302 Moved Temporarily\n",
      "Location: https://docs.google.com/spreadsheets/d/1yoHIzDcD62lBmtVf3WheVZuSpW6DwIa03UrPlZIXfiI/edit [following]\n",
      "--2020-10-25 15:45:49--  https://docs.google.com/spreadsheets/d/1yoHIzDcD62lBmtVf3WheVZuSpW6DwIa03UrPlZIXfiI/edit\n",
      "Reusing existing connection to docs.google.com:443.\n",
      "HTTP request sent, awaiting response... 200 OK\n",
      "Length: unspecified [text/html]\n",
      "Saving to: ‘1yoHIzDcD62lBmtVf3WheVZuSpW6DwIa03UrPlZIXfiI.1’\n",
      "\n",
      "1yoHIzDcD62lBmtVf3W     [  <=>               ] 228.86K  1.09MB/s    in 0.2s    \n",
      "\n",
      "2020-10-25 15:45:50 (1.09 MB/s) - ‘1yoHIzDcD62lBmtVf3WheVZuSpW6DwIa03UrPlZIXfiI.1’ saved [234348]\n",
      "\n",
      "--2020-10-25 15:45:50--  http://test.xlsx/\n",
      "Resolving test.xlsx (test.xlsx)... failed: Name or service not known.\n",
      "wget: unable to resolve host address ‘test.xlsx’\n",
      "FINISHED --2020-10-25 15:45:50--\n",
      "Total wall clock time: 0.6s\n",
      "Downloaded: 1 files, 229K in 0.2s (1.09 MB/s)\n"
     ]
    }
   ],
   "source": [
    "!wget https://docs.google.com/spreadsheets/d/1yoHIzDcD62lBmtVf3WheVZuSpW6DwIa03UrPlZIXfiI \"test.xlsx\""
   ]
  },
  {
   "cell_type": "code",
   "execution_count": null,
   "metadata": {
    "colab": {
     "base_uri": "https://localhost:8080/",
     "height": 68
    },
    "executionInfo": {
     "elapsed": 1162,
     "status": "ok",
     "timestamp": 1603640746368,
     "user": {
      "displayName": "THET NAING TUN",
      "photoUrl": "https://lh3.googleusercontent.com/a-/AOh14GgrISHk_EKTGnmLvdbG7NAyC3z-Y6-MNOa6L4-aU54=s64",
      "userId": "14424235604875805864"
     },
     "user_tz": -390
    },
    "id": "ccVfKLdjbFoK",
    "outputId": "8bb759f4-dc74-44d5-be3d-4a3195bb96ee"
   },
   "outputs": [
    {
     "name": "stdout",
     "output_type": "stream",
     "text": [
      " 1yoHIzDcD62lBmtVf3WheVZuSpW6DwIa03UrPlZIXfiI    'edit?usp=sharing'\n",
      " 1yoHIzDcD62lBmtVf3WheVZuSpW6DwIa03UrPlZIXfiI.1   \u001b[0m\u001b[01;34msample_data\u001b[0m/\n",
      " \u001b[01;34mdrive\u001b[0m/\n"
     ]
    }
   ],
   "source": [
    "ls"
   ]
  },
  {
   "cell_type": "code",
   "execution_count": null,
   "metadata": {
    "colab": {
     "base_uri": "https://localhost:8080/"
    },
    "executionInfo": {
     "elapsed": 2222,
     "status": "ok",
     "timestamp": 1604305072528,
     "user": {
      "displayName": "THET NAING TUN",
      "photoUrl": "https://lh3.googleusercontent.com/a-/AOh14GgrISHk_EKTGnmLvdbG7NAyC3z-Y6-MNOa6L4-aU54=s64",
      "userId": "14424235604875805864"
     },
     "user_tz": -390
    },
    "id": "D5l4LPtZbwDF",
    "outputId": "45869435-e42b-4c7f-b134-ed84d0e872b9"
   },
   "outputs": [
    {
     "name": "stdout",
     "output_type": "stream",
     "text": [
      "--2020-11-02 08:18:24--  https://dboxutja.coursera-apps.org/files/readonly/images.zip\n",
      "Resolving dboxutja.coursera-apps.org (dboxutja.coursera-apps.org)... 52.73.213.71, 34.193.180.235\n",
      "Connecting to dboxutja.coursera-apps.org (dboxutja.coursera-apps.org)|52.73.213.71|:443... connected.\n",
      "HTTP request sent, awaiting response... 307 Temporary Redirect\n",
      "Location: https://hub.coursera-apps.org:443/connect/dboxutja?forceRefresh=false&isIframe=false [following]\n",
      "--2020-11-02 08:18:24--  https://hub.coursera-apps.org/connect/dboxutja?forceRefresh=false&isIframe=false\n",
      "Resolving hub.coursera-apps.org (hub.coursera-apps.org)... 52.73.213.71, 34.193.180.235\n",
      "Connecting to hub.coursera-apps.org (hub.coursera-apps.org)|52.73.213.71|:443... connected.\n",
      "HTTP request sent, awaiting response... 303 See Other\n",
      "Location: https://www.coursera.org:443/workspaces/authenticate/dboxutja?forceRefresh=false&isIframe=false [following]\n",
      "--2020-11-02 08:18:25--  https://www.coursera.org/workspaces/authenticate/dboxutja?forceRefresh=false&isIframe=false\n",
      "Resolving www.coursera.org (www.coursera.org)... 13.226.18.63, 13.226.18.97, 13.226.18.83, ...\n",
      "Connecting to www.coursera.org (www.coursera.org)|13.226.18.63|:443... connected.\n",
      "HTTP request sent, awaiting response... 200 OK\n",
      "Length: unspecified [text/html]\n",
      "Saving to: ‘images.zip’\n",
      "\n",
      "images.zip              [ <=>                ] 234.04K  --.-KB/s    in 0.03s   \n",
      "\n",
      "2020-11-02 08:18:25 (7.43 MB/s) - ‘images.zip’ saved [239656]\n",
      "\n"
     ]
    }
   ],
   "source": [
    "!wget https://dboxutja.coursera-apps.org/files/readonly/images.zip\n"
   ]
  },
  {
   "cell_type": "code",
   "execution_count": null,
   "metadata": {
    "colab": {
     "base_uri": "https://localhost:8080/"
    },
    "executionInfo": {
     "elapsed": 4563,
     "status": "ok",
     "timestamp": 1604305434735,
     "user": {
      "displayName": "THET NAING TUN",
      "photoUrl": "https://lh3.googleusercontent.com/a-/AOh14GgrISHk_EKTGnmLvdbG7NAyC3z-Y6-MNOa6L4-aU54=s64",
      "userId": "14424235604875805864"
     },
     "user_tz": -390
    },
    "id": "mU20NADDCFW7",
    "outputId": "c1467eef-48d9-48c0-b36c-26c0f2257150"
   },
   "outputs": [
    {
     "name": "stdout",
     "output_type": "stream",
     "text": [
      "Collecting zipfile36\n",
      "  Downloading https://files.pythonhosted.org/packages/fd/8a/3b7da0b0bd87d1ef05b74207827c72d348b56a0d6d83242582be18a81e02/zipfile36-0.1.3-py3-none-any.whl\n",
      "Installing collected packages: zipfile36\n",
      "Successfully installed zipfile36-0.1.3\n"
     ]
    }
   ],
   "source": [
    "!pip install zipfile36\n"
   ]
  },
  {
   "cell_type": "code",
   "execution_count": null,
   "metadata": {
    "colab": {
     "base_uri": "https://localhost:8080/",
     "height": 203
    },
    "executionInfo": {
     "elapsed": 878,
     "status": "error",
     "timestamp": 1604305680489,
     "user": {
      "displayName": "THET NAING TUN",
      "photoUrl": "https://lh3.googleusercontent.com/a-/AOh14GgrISHk_EKTGnmLvdbG7NAyC3z-Y6-MNOa6L4-aU54=s64",
      "userId": "14424235604875805864"
     },
     "user_tz": -390
    },
    "id": "XWVJVdvfCVYv",
    "outputId": "94e5615a-5f79-4e26-f281-01f5c9dce2a3"
   },
   "outputs": [
    {
     "ename": "AttributeError",
     "evalue": "ignored",
     "output_type": "error",
     "traceback": [
      "\u001b[0;31m---------------------------------------------------------------------------\u001b[0m",
      "\u001b[0;31mAttributeError\u001b[0m                            Traceback (most recent call last)",
      "\u001b[0;32m<ipython-input-13-41bdd5dbd54f>\u001b[0m in \u001b[0;36m<module>\u001b[0;34m()\u001b[0m\n\u001b[1;32m      1\u001b[0m \u001b[0;32mimport\u001b[0m \u001b[0mzipfile\u001b[0m\u001b[0;34m\u001b[0m\u001b[0;34m\u001b[0m\u001b[0m\n\u001b[0;32m----> 2\u001b[0;31m \u001b[0mzipfile\u001b[0m\u001b[0;34m.\u001b[0m\u001b[0mopen\u001b[0m\u001b[0;34m(\u001b[0m\u001b[0;34m'r'\u001b[0m\u001b[0;34m)\u001b[0m\u001b[0;34m\u001b[0m\u001b[0;34m\u001b[0m\u001b[0m\n\u001b[0m\u001b[1;32m      3\u001b[0m \u001b[0;34m\u001b[0m\u001b[0m\n",
      "\u001b[0;31mAttributeError\u001b[0m: module 'zipfile' has no attribute 'open'"
     ]
    }
   ],
   "source": [
    "import zipfile\n",
    "zipfile.open('r')\n",
    "    "
   ]
  },
  {
   "cell_type": "code",
   "execution_count": 4,
   "metadata": {
    "id": "8t00vJE7Ch8q"
   },
   "outputs": [
    {
     "name": "stdout",
     "output_type": "stream",
     "text": [
      "======================================== GPU Details ========================================\n",
      "id    name    load    free memory    used memory    total memory    temperature    uuid\n",
      "----  ------  ------  -------------  -------------  --------------  -------------  ------\n"
     ]
    }
   ],
   "source": [
    "# GPU information\n",
    "import GPUtil\n",
    "from tabulate import tabulate\n",
    "print(\"=\"*40, \"GPU Details\", \"=\"*40)\n",
    "gpus = GPUtil.getGPUs()\n",
    "list_gpus = []\n",
    "for gpu in gpus:\n",
    "    # get the GPU id\n",
    "    gpu_id = gpu.id\n",
    "    # name of GPU\n",
    "    gpu_name = gpu.name\n",
    "    # get % percentage of GPU usage of that GPU\n",
    "    gpu_load = f\"{gpu.load*100}%\"\n",
    "    # get free memory in MB format\n",
    "    gpu_free_memory = f\"{gpu.memoryFree}MB\"\n",
    "    # get used memory\n",
    "    gpu_used_memory = f\"{gpu.memoryUsed}MB\"\n",
    "    # get total memory\n",
    "    gpu_total_memory = f\"{gpu.memoryTotal}MB\"\n",
    "    # get GPU temperature in Celsius\n",
    "    gpu_temperature = f\"{gpu.temperature} °C\"\n",
    "    gpu_uuid = gpu.uuid\n",
    "    list_gpus.append((\n",
    "        gpu_id, gpu_name, gpu_load, gpu_free_memory, gpu_used_memory,\n",
    "        gpu_total_memory, gpu_temperature, gpu_uuid\n",
    "    ))\n",
    "\n",
    "print(tabulate(list_gpus, headers=(\"id\", \"name\", \"load\", \"free memory\", \"used memory\", \"total memory\",\n",
    "                                   \"temperature\", \"uuid\")))"
   ]
  },
  {
   "cell_type": "code",
   "execution_count": null,
   "metadata": {},
   "outputs": [],
   "source": []
  }
 ],
 "metadata": {
  "colab": {
   "authorship_tag": "ABX9TyPbrD7nipb6m1GapHQKnFDr",
   "mount_file_id": "1jA5CpxrTiVaaI9kR1yCLyKk1v1zSjExI",
   "name": "Sandbox.ipynb",
   "provenance": []
  },
  "kernelspec": {
   "display_name": "Python 3 (ipykernel)",
   "language": "python",
   "name": "python3"
  },
  "language_info": {
   "codemirror_mode": {
    "name": "ipython",
    "version": 3
   },
   "file_extension": ".py",
   "mimetype": "text/x-python",
   "name": "python",
   "nbconvert_exporter": "python",
   "pygments_lexer": "ipython3",
   "version": "3.8.6"
  }
 },
 "nbformat": 4,
 "nbformat_minor": 1
}
