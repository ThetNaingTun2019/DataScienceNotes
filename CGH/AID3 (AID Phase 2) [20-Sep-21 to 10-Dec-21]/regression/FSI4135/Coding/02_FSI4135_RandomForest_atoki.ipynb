{
 "cells": [
  {
   "cell_type": "markdown",
   "metadata": {},
   "source": [
    "## TOKI Comment\r\n",
    "\r\n",
    "- '03_FSI4135_NNwithC.V_algorithm.ipynb' で AI アルゴリズムが NN から Random Forest に変更になったもの。\r\n",
    "- よって、'03_FSI4135_NNwithC.V_algorithm_aoki.ipynb' でのコメントが通用する\r\n",
    "- df_train, df_trial の作成方法が'03_FSI4135_NNwithC.V_algorithm.ipynb'と異なり、間違いいではないが、何故そのような複雑な処理を取ったのか、理解できない。\r\n",
    "\r\n",
    "\r\n",
    "- (English)\r\n",
    "- In '03_FSI4135_NNwithC.V_algorithm.ipynb', the AI algorithm was changed from NN to Random Forest.\r\n",
    "- Therefore, the comment in '03_FSI4135_NNwithC.V_algorithm_aoki.ipynb' is valid.\r\n",
    "- The method of creating df_train and df_trial is different from '03_FSI4135_NNwithC.V_algorithm.ipynb', which is not a mistake, but I don't understand why such complicated processing was taken.  \r\n",
    " -> Nomura: Since it is time series data, it was extracted by period rather than random."
   ]
  },
  {
   "cell_type": "code",
   "execution_count": 1,
   "metadata": {},
   "outputs": [],
   "source": [
    "import os, math\n",
    "os.environ[\"CUDA_VISIBLE_DEVICES\"] = \"-1\"\n",
    "\n",
    "import tensorflow as tf\n",
    "print(tf.__version__)\n",
    "\n",
    "# gpus = tf.config.experimental.list_physical_devices('GPU')\n",
    "# if gpus:\n",
    "#     try:\n",
    "#         # Currently, memory growth needs to be the same across GPUs\n",
    "#         for gpu in gpus:\n",
    "#             tf.config.experimental.set_memory_growth(gpu, True)\n",
    "#         logical_gpus = tf.config.experimental.list_logical_devices('GPU')\n",
    "#         print(len(gpus), \"Physical GPUs,\", len(logical_gpus), \"Logical GPUs\")\n",
    "#     except RuntimeError as e:\n",
    "#         # Memory growth must be set before GPUs have been initialized\n",
    "#         print(e)"
   ]
  },
  {
   "cell_type": "code",
   "execution_count": 2,
   "metadata": {},
   "outputs": [],
   "source": [
    "import warnings\n",
    "warnings.simplefilter(\"ignore\")"
   ]
  },
  {
   "cell_type": "code",
   "execution_count": 3,
   "metadata": {},
   "outputs": [],
   "source": [
    "# change cell width\n",
    "from IPython.core.display import display, HTML\n",
    "display(HTML(\"<style>.container { width:80% !important; }</style>\"))"
   ]
  },
  {
   "cell_type": "code",
   "execution_count": 4,
   "metadata": {},
   "outputs": [],
   "source": [
    "import pandas as pd\n",
    "import numpy as np\n",
    "import matplotlib.pyplot as plt\n",
    "import pickle\n",
    "\n",
    "from sklearn.model_selection import train_test_split\n",
    "from sklearn.ensemble import RandomForestRegressor\n",
    "from sklearn.metrics import mean_squared_error ## MSE\n",
    "from sklearn.metrics import r2_score ## R2\n",
    "from sklearn.model_selection import KFold"
   ]
  },
  {
   "cell_type": "code",
   "execution_count": 5,
   "metadata": {},
   "outputs": [],
   "source": [
    "#data_dir = '../../../MonitoringAI_CPW/DataForFSI4135'\n",
    "data_dir = r'..\\..\\..\\DataForFSI4135'\n",
    "data_filelist = os.listdir(data_dir)\n",
    "file_num = len(data_filelist)\n",
    "print(\"file_num:\",file_num)\n",
    "print(data_filelist)\n",
    "\n",
    "# Read Data and Integrate into 1 Data Frame\n",
    "df_raw = pd.DataFrame()\n",
    "for i_file in range(file_num):\n",
    "    file_dir = data_dir + \"/\" + data_filelist[i_file]\n",
    "    print(file_dir)\n",
    "    df_tmp = pd.read_pickle(file_dir)\n",
    "    df_raw = pd.concat([df_raw, df_tmp])\n",
    "df_raw.reset_index(drop=True, inplace=True)\n",
    "print(\"df_raw.shape:\", df_raw.shape)"
   ]
  },
  {
   "cell_type": "code",
   "execution_count": 6,
   "metadata": {},
   "outputs": [],
   "source": [
    "df_raw.shape"
   ]
  },
  {
   "cell_type": "code",
   "execution_count": 7,
   "metadata": {},
   "outputs": [],
   "source": [
    "df = df_raw.copy()\n",
    "df.reset_index(inplace=True, drop=True)\n",
    "df.dropna(inplace=True)"
   ]
  },
  {
   "cell_type": "code",
   "execution_count": 8,
   "metadata": {
    "scrolled": true
   },
   "outputs": [],
   "source": [
    "df.head(5)"
   ]
  },
  {
   "cell_type": "code",
   "execution_count": 9,
   "metadata": {},
   "outputs": [],
   "source": [
    "df.shape"
   ]
  },
  {
   "cell_type": "markdown",
   "metadata": {},
   "source": [
    "### TOKI Comment\r\n",
    "- training dataset を用意するのに多くの処理を行っている。train_test_split() で個数指定のランダム選出で済むはず。何故に多くの処理を経由する必要があるか？\r\n",
    "    - df_train, df_trial = train_test_split(df, train_size=round(df.shape[0] * 0.9))\r\n",
    "\r\n",
    "\r\n",
    "- English:\r\n",
    "- A lot of processing is done to prepare the training dataset. Random selection by specifying the number with train_test_split () should be enough. Why do we need to go through so many processes?\r\n",
    "     - df_train, df_trial = train_test_split (df, train_size = round (df.shape [0] * 0.9))\r\n",
    "     -> Nomura: Since it is time series data, it was extracted by period rather than random."
   ]
  },
  {
   "cell_type": "code",
   "execution_count": 10,
   "metadata": {},
   "outputs": [],
   "source": [
    "#shuffle your dataframe in-place and reset the index\n",
    "df = df.sample(frac=1).reset_index(drop=True)"
   ]
  },
  {
   "cell_type": "code",
   "execution_count": 11,
   "metadata": {},
   "outputs": [],
   "source": [
    "df.head(5)"
   ]
  },
  {
   "cell_type": "code",
   "execution_count": 12,
   "metadata": {},
   "outputs": [],
   "source": [
    "# explanatory variable - given\n",
    "list_x = [\n",
    "    'LC_4103.PV',\n",
    "    'LC_4105.PV',\n",
    "    'LC_4105.OP',\n",
    "    'PC_4108.PV',\n",
    "    'LC_4109.PV',\n",
    "    'TI_4128.PV',\n",
    "    'FI_4118.PV',\n",
    "    'TI_4132.PV',\n",
    "    'TI_4131.PV',\n",
    "    'LC_4119.PV',\n",
    "    'FI_4120.PV',\n",
    "    'LC_4120.PV',\n",
    "    'TI_4134.PV',\n",
    "    'TI_4190.PV',\n",
    "    'PC_4111.PV',\n",
    "    'TI_4152.PV',\n",
    "    'TI_4164.PV',\n",
    "    'TI_4159.PV',\n",
    "    'TI_4163.PV',\n",
    "    'TI_4136.PV',\n",
    "    'TC_4120.PV',\n",
    "    'TI_4162.PV',\n",
    "    'TI_4139.PV',\n",
    "    'PC_4120.PV',\n",
    "    'PC_4114.PV',\n",
    "    'FC_4121.PV',\n",
    "    'FC_4122.PV',\n",
    "    'FC_4123.PV',\n",
    "    'FC_4124.PV',\n",
    "    'TC_4121.PV',\n",
    "    'TI_4142.PV',\n",
    "    'TI_4180.PV',\n",
    "    'TC_4158.PV',\n",
    "    'FC_4138.PV',\n",
    "    'TI_4147.PV',\n",
    "    'FC_4137.PV',\n",
    "    'PC_4112.PV',\n",
    "    'LC_4123.PV',\n",
    "    'FC_4126.PV',\n",
    "    'LC_4122.PV',\n",
    "    'PI_4128.PV',\n",
    "    'TI_4145.PV',\n",
    "    'LC_4124.PV',\n",
    "    'LC_4125.PV',\n",
    "    'FC_4132.PV',\n",
    "    'FSI4170.PV',\n",
    "    'TI_4150.PV',\n",
    "    'LC_4122.OP',\n",
    "    'TI_4101.PV',\n",
    "    'FI_4117.PV',\n",
    "    'LC_4101.PV',\n",
    "    'LC_4101.OP',\n",
    "    'TI_4102.PV',\n",
    "    'FSI4101.PV',\n",
    "    'PC_4102.PV',\n",
    "    'LIX41022.PV',\n",
    "    'AI_41021.PV',\n",
    "    'TI_4151.PV',\n",
    "    'PQ_62003.PV',\n",
    "    'PQ_62004.PV',\n",
    "    'FC_61001.PV',\n",
    "    'HC_4113.OP',\n",
    "    'TI_4191.PV',\n",
    "    'FSI4135.PV' #Target\n",
    "]\n",
    "\n",
    "# Target variable\n",
    "list_y = [\n",
    "    'FSI4135.PV' \n",
    "]"
   ]
  },
  {
   "cell_type": "code",
   "execution_count": 13,
   "metadata": {},
   "outputs": [],
   "source": [
    "df_PAS_required_tags = df[list_x]"
   ]
  },
  {
   "cell_type": "code",
   "execution_count": 14,
   "metadata": {},
   "outputs": [],
   "source": [
    "df_PAS_required_tags"
   ]
  },
  {
   "cell_type": "markdown",
   "metadata": {},
   "source": [
    "## TOKI Comment\n",
    "\n",
    "- processing : change \"string\" to \"NaN\" => remove \"NaN\" row"
   ]
  },
  {
   "cell_type": "code",
   "execution_count": 15,
   "metadata": {},
   "outputs": [],
   "source": [
    "\"\"\"\n",
    "for col in df_PAS_required_tags.columns[:]:\n",
    "    df_PAS_required_tags[[col] = pd.to_numeric(df_PAS_required_tags[col], errors='coerce')\n",
    "df_PAS_required_tags_dropna(inplace=True)\n",
    "\"\"\""
   ]
  },
  {
   "cell_type": "code",
   "execution_count": 16,
   "metadata": {},
   "outputs": [],
   "source": [
    "# change \"string\" to \"NaN\"\n",
    "df_PAS_required_removeString = []\n",
    "for col in df_PAS_required_tags.columns[:]:\n",
    "    remove_string = pd.to_numeric(df_PAS_required_tags[col], errors='coerce')\n",
    "    df_PAS_required_removeString.append(remove_string)\n",
    "    \n",
    "pd.DataFrame(df_PAS_required_removeString).T"
   ]
  },
  {
   "cell_type": "code",
   "execution_count": 17,
   "metadata": {},
   "outputs": [],
   "source": [
    "# remove \"NaN\" row\n",
    "df_PAS_required_tags_dropna = pd.DataFrame(df_PAS_required_removeString).T.dropna(how=\"any\", axis=0)\n",
    "df_PAS_required_tags_dropna"
   ]
  },
  {
   "cell_type": "code",
   "execution_count": 18,
   "metadata": {},
   "outputs": [],
   "source": [
    "a = df.shape[0] * 0.9\n",
    "a = round(a)\n",
    "print(a)"
   ]
  },
  {
   "cell_type": "code",
   "execution_count": 19,
   "metadata": {},
   "outputs": [],
   "source": [
    "split_date = a\n",
    "df_train = df_PAS_required_tags[: split_date]\n",
    "df_train"
   ]
  },
  {
   "cell_type": "code",
   "execution_count": 20,
   "metadata": {},
   "outputs": [],
   "source": [
    "df_trial = df_PAS_required_tags[split_date:]\n",
    "df_trial"
   ]
  },
  {
   "cell_type": "code",
   "execution_count": 21,
   "metadata": {},
   "outputs": [],
   "source": [
    "df_trial_X = df_trial.drop(columns=list_y)\n",
    "df_trial_y = df_trial[list_y]"
   ]
  },
  {
   "cell_type": "code",
   "execution_count": 22,
   "metadata": {},
   "outputs": [],
   "source": [
    "df_train_X = df_train.drop(columns=list_y)\n",
    "df_train_y = df_train[list_y]"
   ]
  },
  {
   "cell_type": "code",
   "execution_count": 23,
   "metadata": {},
   "outputs": [],
   "source": [
    "df_train_X.shape"
   ]
  },
  {
   "attachments": {
    "image.png": {
     "image/png": "[encoded data removed]"
    }
   },
   "cell_type": "markdown",
   "metadata": {},
   "source": [
    "## TOKI Comment\r\n",
    "- \"03_FSI4135_NNwithC.V_algorithm_atoki\"に記載と同じコメント\r\n",
    "- 関数の汎用化、モデル性能評価に、trial dataset も追加。\r\n",
    "- モデル性能評価に　RMSE での比較も追加\r\n",
    "- feature_importance の結果表示は必要か？\r\n",
    "    - 表示するなら、1つのfigで4本のbarで表示し、比較できるようにした方がよいのでは？　下図のイメージ　\r\n",
    "![image.png](attachment:image.png)\r\n",
    "    - ほぼゼロが多いので、feature_importance<limitは表示しないようにするとか\r\n",
    "\r\n",
    "\r\n",
    "- English:\r\n",
    "- Same comment as described in \"03_FSI4135_NNwithC.V_algorithm_atoki\"\r\n",
    "- Trial dataset has also been added to generalization of functions and model performance evaluation.\r\n",
    "- Added RMSE comparison to model performance evaluation\r\n",
    "- Is it necessary to display the result of feature_importance?\r\n",
    "    - If you want to display it, it is better to display it with 4 bars in one fig so that you can compare it. Image of the figure below\r\n",
    "! [image.png] (attachment: image.png)\r\n",
    "     - Since there are many zeros, feature_importance < limit should not be displayed."
   ]
  },
  {
   "cell_type": "code",
   "execution_count": 24,
   "metadata": {},
   "outputs": [],
   "source": [
    "def cross_validate(data,label, tree_qty, depth, X_exp): #(train_X, train_y)\n",
    "\n",
    "    skf = KFold(n_splits=5,random_state=1, shuffle = True)\n",
    "\n",
    "    models = []\n",
    "    train_scores = []\n",
    "    validation_scores = []\n",
    "\n",
    "    for train_index, val_index in skf.split(data,label): # Split train data\n",
    "    \n",
    "        train_data=data[train_index]       \n",
    "        train_label=label[train_index]       \n",
    "        val_data=data[val_index]\n",
    "        val_label=label[val_index]\n",
    "        \n",
    "        rgr=RandomForestRegressor(n_estimators=tree_qty, max_depth=depth, random_state=1)\n",
    "        \n",
    "        from pprint import pprint\n",
    "        # Look at parameters used by our current forest\n",
    "        print('Parameters currently in use:\\n')\n",
    "        pprint(rgr.get_params())\n",
    "  \n",
    "        rgr.fit(train_data, train_label) # develop prediction model\n",
    "        models.append(rgr)\n",
    "        \n",
    "        train_score = rgr.score(train_data, train_label)\n",
    "        train_scores.append(train_score)\n",
    "        \n",
    "        validation_score= rgr.score(val_data, val_label)  \n",
    "        validation_scores.append(validation_score)\n",
    "        \n",
    "        # Feature Importance\n",
    "        fti = rgr.feature_importances_\n",
    "\n",
    "        # save Feature Importance\n",
    "        ImporTable=pd.concat([pd.DataFrame(X_exp.T.index),pd.DataFrame(fti)],axis=1)\n",
    "        ImporTable.to_csv('02_importance.csv')\n",
    "\n",
    "        # edit Feature Importance\n",
    "        ImporTable.columns = [0,1]\n",
    "        ImporTable_ = ImporTable.set_index(0)\n",
    "        ImporTable_ = ImporTable_.sort_values(1,ascending=True)\n",
    "\n",
    "        ImporTable_Y = ImporTable_.iloc[:,0][-63:]\n",
    "        ImporTable_X = np.arange(len(ImporTable_Y))\n",
    "\n",
    "        plt.figure(figsize=(10, 25))\n",
    "\n",
    "        label_ = ImporTable_Y.index\n",
    "        \n",
    "        # visualize Feature Importance\n",
    "        plt.title(\n",
    "                  \"train_score = \"+(\"{:.4f}\".format(train_score))+\"\\n\"\n",
    "                  \"validation_score = \"+(\"{:.4f}\".format(validation_score))+\"\\n\"\n",
    "                  \"feature_importance\")\n",
    "        plt.barh(ImporTable_X, ImporTable_Y, align=\"center\",tick_label=label_, linewidth=0.1)   # bar chart\n",
    "        plt.yticks(ImporTable_X, ImporTable_.index)  # x-axis label\n",
    "        plt.grid()\n",
    "        plt.show()\n",
    "        \n",
    "    # visualize \"train_score VS validation_score\"\n",
    "    fig, ax1 = plt.subplots(figsize=(3, 3))\n",
    "    x = list(range(len(models)))\n",
    "\n",
    "    ax1.plot(x, train_scores,\"-\",label=\"train_scores\", lw=1, marker='o', markersize=2, markeredgewidth=4) ## 系列１をプロット\n",
    "    ax1.plot(x, validation_scores,\"-\",label=\"validation_scores\", alpha=0.8, lw=1, marker='o', markersize=2, markeredgewidth=4) # 系列２をプロット\n",
    "    ax1.set_title('train_score vs validation_score')\n",
    "    ax1.set_xlabel('model ID')\n",
    "    ax1.set_ylabel('score')\n",
    "    ax1.legend(loc='lower left', bbox_to_anchor=(1, 0))\n",
    "    ax1.grid()\n",
    "\n",
    "    plt.show()\n",
    "  \n",
    "    return models"
   ]
  },
  {
   "cell_type": "code",
   "execution_count": 25,
   "metadata": {
    "scrolled": false
   },
   "outputs": [],
   "source": [
    "models = cross_validate(df_train_X.values, df_train_y.values, 10, 100, df_train_X)"
   ]
  },
  {
   "cell_type": "code",
   "execution_count": 26,
   "metadata": {},
   "outputs": [],
   "source": [
    "# output ensemble mean value from rach models developed by cross-validation\n",
    "def def_pred_ensemble(model, df_trial):\n",
    "    sum_predictedValue = 0\n",
    "    for i in range(len(model)):\n",
    "        sum_predictedValue = sum_predictedValue + model[i].predict(df_trial)\n",
    "\n",
    "    pred_ensemble = sum_predictedValue/len(model)\n",
    "    return pred_ensemble"
   ]
  },
  {
   "cell_type": "code",
   "execution_count": 27,
   "metadata": {
    "scrolled": true
   },
   "outputs": [],
   "source": [
    "pred_ensemble = def_pred_ensemble(models, df_trial_X)\n",
    "pred_ensemble"
   ]
  },
  {
   "cell_type": "code",
   "execution_count": 28,
   "metadata": {},
   "outputs": [],
   "source": [
    "from sklearn.metrics import r2_score\n",
    "\n",
    "# output R2 score of rach models developed by cross-validation\n",
    "def def_score_ensemble(model, df_trial_X, df_trial_y):\n",
    "    for i in range(len(model)):\n",
    "        print(\"model_\"+ '{}'.format(i) +\" \"+ \"score:\", \"{:.3f}\".format(model[i].score(df_trial_X,df_trial_y)))\n",
    "    \n",
    "    score_predictedEnsemble = r2_score(def_pred_ensemble(models, df_trial_X),df_trial_y)\n",
    "    print('ensemble score: {:.3f}'.format(score_predictedEnsemble))\n",
    "    return score_predictedEnsemble"
   ]
  },
  {
   "cell_type": "code",
   "execution_count": 29,
   "metadata": {},
   "outputs": [],
   "source": [
    "print(\"R2 Score for Trial Dataset\")\n",
    "score_predictedEnsemble = def_score_ensemble(models, df_trial_X, df_trial_y)"
   ]
  },
  {
   "cell_type": "code",
   "execution_count": 30,
   "metadata": {},
   "outputs": [],
   "source": [
    "x = df_trial_X.index"
   ]
  },
  {
   "cell_type": "code",
   "execution_count": 31,
   "metadata": {},
   "outputs": [],
   "source": [
    "#fig, ax1 = plt.subplots(figsize=(500, 5))\n",
    "fig, ax1 = plt.subplots(figsize=(13, 5))\n",
    "ax2 = ax1.twinx()\n",
    "\n",
    "ax1.plot(x, df_trial_y.values.reshape(-1,1),\"-\",label=\"Measured\", lw=1, marker='o', markersize=2, markeredgewidth=4)\n",
    "ax1.plot(x, pred_ensemble,\"-\",label=\"Predicted\", alpha=0.8, lw=1, marker='o', markersize=2, markeredgewidth=4)\n",
    "ax2.plot(x, df_trial_y.values.reshape(-1,1) - pred_ensemble.reshape(-1,1),\"-r\",label=\"Error\", alpha=0.5, lw=1, marker='o', markersize=0.5, markeredgewidth=4)\n",
    "\n",
    "ax1.set_title('XCV-18573A Measured vs Predicted')\n",
    "ax1.set_xlabel('Date')\n",
    "ax1.set_ylabel('XCV-18573A')\n",
    "ax2.set_ylabel('Error')\n",
    "ax1.grid()\n",
    "\n",
    "lines1, labels1 = ax1.get_legend_handles_labels()\n",
    "lines2, labels2 = ax2.get_legend_handles_labels()\n",
    "ax2.legend(lines1 + lines2, labels1 + labels2, loc=\"best\")\n",
    "\n",
    "print(\"trial_score:{:.3f}\".format(score_predictedEnsemble))\n",
    "print('RMSE: %.3f' % np.sqrt(mean_squared_error(df_trial_y, pred_ensemble)))"
   ]
  },
  {
   "cell_type": "code",
   "execution_count": null,
   "metadata": {},
   "outputs": [],
   "source": []
  }
 ],
 "metadata": {
  "kernelspec": {
   "display_name": "Python 3",
   "language": "python",
   "name": "python3"
  },
  "language_info": {
   "codemirror_mode": {
    "name": "ipython",
    "version": 3
   },
   "file_extension": ".py",
   "mimetype": "text/x-python",
   "name": "python",
   "nbconvert_exporter": "python",
   "pygments_lexer": "ipython3",
   "version": "3.7.4"
  }
 },
 "nbformat": 4,
 "nbformat_minor": 2
}